{
 "cells": [
  {
   "cell_type": "code",
   "execution_count": 1,
   "metadata": {},
   "outputs": [],
   "source": [
    "import cv2\n",
    "import numpy as np\n",
    "from PIL import Image"
   ]
  },
  {
   "cell_type": "code",
   "execution_count": 2,
   "metadata": {},
   "outputs": [],
   "source": [
    "def sobel_X():\n",
    "    kernel = np.array([[-1, 0, 1], [-2, 0, 2], [-1, 0, 1]])\n",
    "    return kernel"
   ]
  },
  {
   "cell_type": "code",
   "execution_count": 3,
   "metadata": {},
   "outputs": [],
   "source": [
    "def sobel_Y():\n",
    "    kernel = np.array([[1, 2, 1], [0, 0, 0], [-1, -2, -1]])\n",
    "    return kernel"
   ]
  },
  {
   "cell_type": "code",
   "execution_count": 4,
   "metadata": {},
   "outputs": [],
   "source": [
    "def prewitt_X():\n",
    "    kernel = np.array([[-1, 0, 1], [-1, 0, 1], [-1, 0, 1]])\n",
    "    return kernel"
   ]
  },
  {
   "cell_type": "code",
   "execution_count": 5,
   "metadata": {},
   "outputs": [],
   "source": [
    "def prewitt_Y():\n",
    "    kernel = np.array([[1, 1, 1], [0, 0, 0], [-1, -1, -1]])\n",
    "    return kernel"
   ]
  },
  {
   "cell_type": "code",
   "execution_count": 6,
   "metadata": {},
   "outputs": [],
   "source": [
    "def gradient(img, size, mask):\n",
    "    if len(img.shape) == 3: \n",
    "        H, W, C = img.shape\n",
    "    else: \n",
    "        img = np.expand_dims(img, axis=-1)\n",
    "        H, W, C = img.shape\n",
    "\n",
    "    pad = size // 2\n",
    "    out = np.zeros((H + pad * 2, W + pad * 2, C), dtype=np.float)\n",
    "    out[pad: pad + H, pad: pad + W] = img.copy().astype(np.float)\n",
    "\n",
    "    print(mask)\n",
    "\n",
    "    tmp = out.copy()\n",
    "    \n",
    "    for i in range(H): \n",
    "        for j in range(W): \n",
    "            for k in range(C): \n",
    "                out[pad + i, pad + j, k] = np.sum(mask * tmp[i: i + size, j: j + size, k]) \n",
    "    out = np.clip(out, 0, 255) \n",
    "    out = out[pad: pad + H, pad: pad + W].astype(np.uint8) \n",
    "    \n",
    "    return out"
   ]
  },
  {
   "cell_type": "code",
   "execution_count": null,
   "metadata": {},
   "outputs": [
    {
     "name": "stdout",
     "output_type": "stream",
     "text": [
      "[[-1  0  1]\n",
      " [-2  0  2]\n",
      " [-1  0  1]]\n",
      "[[ 1  2  1]\n",
      " [ 0  0  0]\n",
      " [-1 -2 -1]]\n",
      "[[-1  0  1]\n",
      " [-1  0  1]\n",
      " [-1  0  1]]\n",
      "[[ 1  1  1]\n",
      " [ 0  0  0]\n",
      " [-1 -1 -1]]\n"
     ]
    }
   ],
   "source": [
    "img = cv2.imread('Fig0327(a)(tungsten_original).jpg') \n",
    "\n",
    "out_x = gradient(img, 3, sobel_X())\n",
    "out_y = gradient(img, 3, sobel_Y())\n",
    "\n",
    "merged = out_x+out_y\n",
    "\n",
    "out_x2 = gradient(img, 3, prewitt_X())\n",
    "out_y2 = gradient(img, 3, prewitt_Y())\n",
    "\n",
    "merged2 = out_x2+out_y2\n",
    "\n",
    "cv2.imshow(\"sobel\", merged) \n",
    "cv2.imshow(\"prewitt\", merged2) \n",
    "cv2.waitKey(0) \n",
    "cv2.destroyAllWindows()"
   ]
  },
  {
   "cell_type": "code",
   "execution_count": null,
   "metadata": {},
   "outputs": [],
   "source": []
  }
 ],
 "metadata": {
  "kernelspec": {
   "display_name": "Python 3",
   "language": "python",
   "name": "python3"
  },
  "language_info": {
   "codemirror_mode": {
    "name": "ipython",
    "version": 3
   },
   "file_extension": ".py",
   "mimetype": "text/x-python",
   "name": "python",
   "nbconvert_exporter": "python",
   "pygments_lexer": "ipython3",
   "version": "3.8.5"
  }
 },
 "nbformat": 4,
 "nbformat_minor": 4
}
