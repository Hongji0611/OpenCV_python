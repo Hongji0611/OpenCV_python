{
 "cells": [
  {
   "cell_type": "code",
   "execution_count": 129,
   "metadata": {},
   "outputs": [],
   "source": [
    "import cv2\n",
    "import numpy as np\n",
    "from PIL import Image\n",
    "import math\n",
    "\n",
    "# def gaussian1D(sigma):\n",
    "#     a = sigma\n",
    "#     if a % 2 == 0:\n",
    "#         a+=1\n",
    "        \n",
    "#     g_filter = np.array(range(-int(a/2),int(a/2)+1))\n",
    "    \n",
    "#     result = np.zeros(len(g_filter))\n",
    "#     for i in range(len(g_filter)):\n",
    "#         result[i] =  float(np.exp(-float(g_filter[i]**2)/float(float(2)*float(sigma**2))))\n",
    "#     total = np.sum(result)\n",
    "#     result/=total\n",
    "    \n",
    "#     return result\n",
    "        \n",
    "    \n"
   ]
  },
  {
   "cell_type": "code",
   "execution_count": 130,
   "metadata": {},
   "outputs": [],
   "source": [
    "def gaussian1D(sigma):\n",
    "    a = sigma\n",
    "    \n",
    "    if a % 2 == 0: #mask size가 짝수일 경우 1을 키운다\n",
    "        a+=1\n",
    "    \n",
    "    a2 = a/2\n",
    "    filter_size = np.array(range(-int(a/2),int(a/2)+1))\n",
    "    result = np.zeros(len(filter_size))\n",
    "    \n",
    "    for i in range(len(filter_size)):\n",
    "        x = i-a2\n",
    "        result[i] =  float(np.exp(-(x**2)/(2*sigma**2)) / (2*3.14*sigma**2)) #가우시안 공식\n",
    "    \n",
    "    total = np.sum(result)\n",
    "    result/=total\n",
    "    \n",
    "    return result"
   ]
  },
  {
   "cell_type": "code",
   "execution_count": 131,
   "metadata": {},
   "outputs": [],
   "source": [
    "def gaussian2D(sigma):\n",
    "    # 두 벡터를 외적하여 x,y 2차원 mask를 생성\n",
    "    result = np.outer(gaussian1D(sigma),gaussian1D(sigma))\n",
    "    total = np.sum(result)\n",
    "    result/=total\n",
    "    \n",
    "    return result"
   ]
  },
  {
   "cell_type": "code",
   "execution_count": 132,
   "metadata": {},
   "outputs": [],
   "source": [
    "def convolution(array, f):\n",
    "    a = (len(f)-1)//2\n",
    "    # boundery를 0으로 채운다\n",
    "    img_pad = np.pad(array, ((a,a),(a,a)),'constant', constant_values=0)\n",
    "    \n",
    "    #convolution을 위해 2번 뒤집는다\n",
    "    mask = np.rot90(f)\n",
    "    mask = np.rot90(mask)\n",
    "    \n",
    "    result_img = np.zeros((len(array),len(array[0])))\n",
    "    result_img = result_img.astype('float32')\n",
    "    \n",
    "    for i in range(len(result_img)):\n",
    "        for j in range(len(result_img)):\n",
    "            result_img[i][j] = np.sum(img_pad[i:i+len(f), j:j+len(f)])*mask\n",
    "    return result_img\n",
    "    "
   ]
  },
  {
   "cell_type": "code",
   "execution_count": 133,
   "metadata": {},
   "outputs": [],
   "source": [
    "def convolution_color(array, f):\n",
    "    a = (len(f)-1)//2\n",
    "    # boundery를 0으로 채운다\n",
    "    img_pad = np.pad(array, ((a,a),(a,a),(0,0)),'constant', constant_values=0)\n",
    "    \n",
    "    #convolution을 위해 2번 뒤집는다\n",
    "    mask = np.rot90(f)\n",
    "    mask = np.rot90(mask)\n",
    "    \n",
    "    #color img 이므로 3차원으로 배열 설정\n",
    "    result_img = np.zeros((len(array),len(array[0]),3))\n",
    "    result_img = result_img.astype('float32')\n",
    "    \n",
    "    for i in range(len(result_img)):\n",
    "        for j in range(len(result_img[0])):\n",
    "            result_img[i][j][0] = np.sum(img_pad[i:i+len(f), j:j+len(f),0]*mask)\n",
    "            result_img[i][j][1] = np.sum(img_pad[i:i+len(f), j:j+len(f),1]*mask)\n",
    "            result_img[i][j][2] = np.sum(img_pad[i:i+len(f), j:j+len(f),2]*mask)\n",
    "    return result_img"
   ]
  },
  {
   "cell_type": "code",
   "execution_count": 134,
   "metadata": {},
   "outputs": [],
   "source": [
    "def real_convolution(array, sigma):\n",
    "    return convolution(array, gaussian2D(sigma))"
   ]
  },
  {
   "cell_type": "code",
   "execution_count": 135,
   "metadata": {},
   "outputs": [],
   "source": [
    "def real_convolution_color(array, sigma):\n",
    "    return convolution_color(array, gaussian2D(sigma))"
   ]
  },
  {
   "cell_type": "code",
   "execution_count": 136,
   "metadata": {},
   "outputs": [
    {
     "name": "stdout",
     "output_type": "stream",
     "text": [
      "[[0.01730548 0.01839811 0.01916458 0.01955972 0.01955972 0.01916458\n",
      "  0.01839811]\n",
      " [0.01839811 0.01955972 0.02037459 0.02079467 0.02079467 0.02037459\n",
      "  0.01955972]\n",
      " [0.01916458 0.02037459 0.02122341 0.02166099 0.02166099 0.02122341\n",
      "  0.02037459]\n",
      " [0.01955972 0.02079467 0.02166099 0.02210759 0.02210759 0.02166099\n",
      "  0.02079467]\n",
      " [0.01955972 0.02079467 0.02166099 0.02210759 0.02210759 0.02166099\n",
      "  0.02079467]\n",
      " [0.01916458 0.02037459 0.02122341 0.02166099 0.02166099 0.02122341\n",
      "  0.02037459]\n",
      " [0.01839811 0.01955972 0.02037459 0.02079467 0.02079467 0.02037459\n",
      "  0.01955972]]\n"
     ]
    }
   ],
   "source": [
    "print(gaussian2D(7))"
   ]
  },
  {
   "cell_type": "code",
   "execution_count": 137,
   "metadata": {},
   "outputs": [
    {
     "ename": "ValueError",
     "evalue": "setting an array element with a sequence.",
     "output_type": "error",
     "traceback": [
      "\u001b[1;31m---------------------------------------------------------------------------\u001b[0m",
      "\u001b[1;31mTypeError\u001b[0m                                 Traceback (most recent call last)",
      "\u001b[1;31mTypeError\u001b[0m: only size-1 arrays can be converted to Python scalars",
      "\nThe above exception was the direct cause of the following exception:\n",
      "\u001b[1;31mValueError\u001b[0m                                Traceback (most recent call last)",
      "\u001b[1;32m<ipython-input-137-993bf790c96d>\u001b[0m in \u001b[0;36m<module>\u001b[1;34m\u001b[0m\n\u001b[0;32m      4\u001b[0m \u001b[0mimg_arr\u001b[0m \u001b[1;33m=\u001b[0m \u001b[0mimg_arr\u001b[0m\u001b[1;33m.\u001b[0m\u001b[0mastype\u001b[0m\u001b[1;33m(\u001b[0m\u001b[1;34m'float32'\u001b[0m\u001b[1;33m)\u001b[0m\u001b[1;33m\u001b[0m\u001b[1;33m\u001b[0m\u001b[0m\n\u001b[0;32m      5\u001b[0m \u001b[1;33m\u001b[0m\u001b[0m\n\u001b[1;32m----> 6\u001b[1;33m \u001b[0mimg_result\u001b[0m \u001b[1;33m=\u001b[0m \u001b[0mreal_convolution\u001b[0m\u001b[1;33m(\u001b[0m\u001b[0mimg_arr\u001b[0m\u001b[1;33m,\u001b[0m \u001b[1;36m3\u001b[0m\u001b[1;33m)\u001b[0m\u001b[1;33m\u001b[0m\u001b[1;33m\u001b[0m\u001b[0m\n\u001b[0m\u001b[0;32m      7\u001b[0m \u001b[0mimg_result\u001b[0m \u001b[1;33m=\u001b[0m \u001b[0mimg_result\u001b[0m\u001b[1;33m.\u001b[0m\u001b[0mastype\u001b[0m\u001b[1;33m(\u001b[0m\u001b[1;34m'uint8'\u001b[0m\u001b[1;33m)\u001b[0m\u001b[1;33m\u001b[0m\u001b[1;33m\u001b[0m\u001b[0m\n\u001b[0;32m      8\u001b[0m \u001b[0mimg_result\u001b[0m \u001b[1;33m=\u001b[0m \u001b[0mImage\u001b[0m\u001b[1;33m.\u001b[0m\u001b[0mfromarray\u001b[0m\u001b[1;33m(\u001b[0m\u001b[0mimg_result\u001b[0m\u001b[1;33m)\u001b[0m\u001b[1;33m\u001b[0m\u001b[1;33m\u001b[0m\u001b[0m\n",
      "\u001b[1;32m<ipython-input-134-c6f3ce94bd2c>\u001b[0m in \u001b[0;36mreal_convolution\u001b[1;34m(array, sigma)\u001b[0m\n\u001b[0;32m      1\u001b[0m \u001b[1;32mdef\u001b[0m \u001b[0mreal_convolution\u001b[0m\u001b[1;33m(\u001b[0m\u001b[0marray\u001b[0m\u001b[1;33m,\u001b[0m \u001b[0msigma\u001b[0m\u001b[1;33m)\u001b[0m\u001b[1;33m:\u001b[0m\u001b[1;33m\u001b[0m\u001b[1;33m\u001b[0m\u001b[0m\n\u001b[1;32m----> 2\u001b[1;33m     \u001b[1;32mreturn\u001b[0m \u001b[0mconvolution\u001b[0m\u001b[1;33m(\u001b[0m\u001b[0marray\u001b[0m\u001b[1;33m,\u001b[0m \u001b[0mgaussian2D\u001b[0m\u001b[1;33m(\u001b[0m\u001b[0msigma\u001b[0m\u001b[1;33m)\u001b[0m\u001b[1;33m)\u001b[0m\u001b[1;33m\u001b[0m\u001b[1;33m\u001b[0m\u001b[0m\n\u001b[0m",
      "\u001b[1;32m<ipython-input-132-c54f22be902d>\u001b[0m in \u001b[0;36mconvolution\u001b[1;34m(array, f)\u001b[0m\n\u001b[0;32m     13\u001b[0m     \u001b[1;32mfor\u001b[0m \u001b[0mi\u001b[0m \u001b[1;32min\u001b[0m \u001b[0mrange\u001b[0m\u001b[1;33m(\u001b[0m\u001b[0mlen\u001b[0m\u001b[1;33m(\u001b[0m\u001b[0mresult_img\u001b[0m\u001b[1;33m)\u001b[0m\u001b[1;33m)\u001b[0m\u001b[1;33m:\u001b[0m\u001b[1;33m\u001b[0m\u001b[1;33m\u001b[0m\u001b[0m\n\u001b[0;32m     14\u001b[0m         \u001b[1;32mfor\u001b[0m \u001b[0mj\u001b[0m \u001b[1;32min\u001b[0m \u001b[0mrange\u001b[0m\u001b[1;33m(\u001b[0m\u001b[0mlen\u001b[0m\u001b[1;33m(\u001b[0m\u001b[0mresult_img\u001b[0m\u001b[1;33m)\u001b[0m\u001b[1;33m)\u001b[0m\u001b[1;33m:\u001b[0m\u001b[1;33m\u001b[0m\u001b[1;33m\u001b[0m\u001b[0m\n\u001b[1;32m---> 15\u001b[1;33m             \u001b[0mresult_img\u001b[0m\u001b[1;33m[\u001b[0m\u001b[0mi\u001b[0m\u001b[1;33m]\u001b[0m\u001b[1;33m[\u001b[0m\u001b[0mj\u001b[0m\u001b[1;33m]\u001b[0m \u001b[1;33m=\u001b[0m \u001b[0mnp\u001b[0m\u001b[1;33m.\u001b[0m\u001b[0msum\u001b[0m\u001b[1;33m(\u001b[0m\u001b[0mimg_pad\u001b[0m\u001b[1;33m[\u001b[0m\u001b[0mi\u001b[0m\u001b[1;33m:\u001b[0m\u001b[0mi\u001b[0m\u001b[1;33m+\u001b[0m\u001b[0mlen\u001b[0m\u001b[1;33m(\u001b[0m\u001b[0mf\u001b[0m\u001b[1;33m)\u001b[0m\u001b[1;33m,\u001b[0m \u001b[0mj\u001b[0m\u001b[1;33m:\u001b[0m\u001b[0mj\u001b[0m\u001b[1;33m+\u001b[0m\u001b[0mlen\u001b[0m\u001b[1;33m(\u001b[0m\u001b[0mf\u001b[0m\u001b[1;33m)\u001b[0m\u001b[1;33m]\u001b[0m\u001b[1;33m)\u001b[0m\u001b[1;33m*\u001b[0m\u001b[0mmask\u001b[0m\u001b[1;33m\u001b[0m\u001b[1;33m\u001b[0m\u001b[0m\n\u001b[0m\u001b[0;32m     16\u001b[0m     \u001b[1;32mreturn\u001b[0m \u001b[0mresult_img\u001b[0m\u001b[1;33m\u001b[0m\u001b[1;33m\u001b[0m\u001b[0m\n\u001b[0;32m     17\u001b[0m \u001b[1;33m\u001b[0m\u001b[0m\n",
      "\u001b[1;31mValueError\u001b[0m: setting an array element with a sequence."
     ]
    }
   ],
   "source": [
    "img = Image.open('Fig0504(i)(salt-pepper-noise).jpg')\n",
    "\n",
    "img_arr = np.asarray(img)\n",
    "img_arr = img_arr.astype('float32')\n",
    "\n",
    "img_result = real_convolution(img_arr, 3)\n",
    "img_result = img_result.astype('uint8')\n",
    "img_result = Image.fromarray(img_result)\n",
    "\n",
    "img_result.show()"
   ]
  },
  {
   "cell_type": "code",
   "execution_count": 119,
   "metadata": {},
   "outputs": [],
   "source": [
    "# img = Image.open('Gaussian noise.png')\n",
    "\n",
    "# img_arr = np.asarray(img)\n",
    "# img_arr = img_arr.astype('float32')\n",
    "\n",
    "# filter = np.ones((5,5), np.float32)/25\n",
    "\n",
    "# img_result = convolution(img_arr, filter)\n",
    "# img_result = img_result.astype('uint8')\n",
    "# img_result = Image.fromarray(img_result)\n",
    "\n",
    "# img_result.show()\n"
   ]
  },
  {
   "cell_type": "code",
   "execution_count": 52,
   "metadata": {},
   "outputs": [],
   "source": [
    "# img = cv2.imread('Salt&pepper noise.png')\n",
    "\n",
    "# img = Image.open('Salt&pepper noise.png') # Image load\n",
    "# img_array = np.asarray(img) # Image to np.array\n",
    "\n",
    "# kernel1d = cv2.getGaussianKernel(3, 0) \n",
    "# kernel2d = np.outer(kernel1d, kernel1d.transpose())\n",
    "# print(kernel2d)\n",
    "\n",
    "# low_im_array = cv2.filter2D(im_array, -1, kernel2d) # convolve\n",
    "\n",
    "# low_im = Image.fromarray(low_im_array) # np.array to Image\n",
    "# low_im.save('low_newskin.bmp','BMP')"
   ]
  },
  {
   "cell_type": "code",
   "execution_count": null,
   "metadata": {},
   "outputs": [],
   "source": [
    "# img = cv2.imread('Salt&pepper noise.png')\n",
    "\n",
    "# result = cv2.GaussianBlur(img, (3, 3), 0)\n",
    "# result2 = cv2.GaussianBlur(img, (5, 5), 0)\n",
    "# result3 = cv2.GaussianBlur(img, (7, 7), 0)\n",
    "\n",
    "# cv2.imshow('result', result)\n",
    "# cv2.imshow('result2', result2)\n",
    "# cv2.imshow('result3', result3)\n",
    "# cv2.waitKey(0)\n",
    "# cv2.destroyAllWindows()"
   ]
  }
 ],
 "metadata": {
  "kernelspec": {
   "display_name": "Python 3",
   "language": "python",
   "name": "python3"
  },
  "language_info": {
   "codemirror_mode": {
    "name": "ipython",
    "version": 3
   },
   "file_extension": ".py",
   "mimetype": "text/x-python",
   "name": "python",
   "nbconvert_exporter": "python",
   "pygments_lexer": "ipython3",
   "version": "3.8.5"
  }
 },
 "nbformat": 4,
 "nbformat_minor": 4
}
