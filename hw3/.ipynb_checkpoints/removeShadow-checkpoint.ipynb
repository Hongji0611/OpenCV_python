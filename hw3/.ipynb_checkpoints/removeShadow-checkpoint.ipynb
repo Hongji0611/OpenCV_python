{
 "cells": [
  {
   "cell_type": "code",
   "execution_count": 29,
   "metadata": {},
   "outputs": [],
   "source": [
    "import cv2\n",
    "import numpy as np\n",
    "import matplotlib.pyplot as plt\n",
    "import ipywidgets as widgets \n",
    "import IPython.display as display\n",
    "from ipywidgets import Layout, Button, Box, Layout, Image, IntSlider, AppLayout\n",
    "import matplotlib.animation as animation"
   ]
  },
  {
   "cell_type": "code",
   "execution_count": 30,
   "metadata": {},
   "outputs": [
    {
     "data": {
      "application/vnd.jupyter.widget-view+json": {
       "model_id": "0a01792fc7cd4cb59c26dfbfcc62384b",
       "version_major": 2,
       "version_minor": 0
      },
      "text/plain": [
       "Box(children=(Image(value=b'', layout=\"Layout(border='solid')\", width='20%'), Image(value=b'', layout=\"Layout(…"
      ]
     },
     "metadata": {},
     "output_type": "display_data"
    }
   ],
   "source": [
    "cap = cv2.VideoCapture('./example/Project_outdoor video1.mov')\n",
    "if(not cap.isOpened()):\n",
    "    print('Error opening video')\n",
    "\n",
    "height,width = (int(cap.get(cv2.CAP_PROP_FRAME_HEIGHT)),int(cap.get(cv2.CAP_PROP_FRAME_WIDTH)))\n",
    "t=0\n",
    "TH = 40 #Binary Threshold\n",
    "AREA_TH = 80 #Area Threshold\n",
    "bkg_gray = cv2.imread('./data/avg_gray.png',cv2.IMREAD_GRAYSCALE)\n",
    "bkg_gray = cv2.resize(bkg_gray, dsize=(width,height), interpolation=cv2.INTER_AREA)\n",
    "\n",
    "bkg_bgr = cv2.imread('./data/avg_bgr.png')\n",
    "bkg_bgr = cv2.resize(bkg_bgr, dsize=(width,height), interpolation=cv2.INTER_AREA)\n",
    "\n",
    "mode = cv2.RETR_EXTERNAL\n",
    "method = cv2.CHAIN_APPROX_SIMPLE\n",
    "\n",
    "wImg1 = widgets.Image(layout = widgets.Layout(border=\"solid\"), width=\"20%\") \n",
    "wImg2 = widgets.Image(layout = widgets.Layout(border=\"solid\"), width=\"20%\") \n",
    "wImg3 = widgets.Image(layout = widgets.Layout(border=\"solid\"), width=\"20%\") \n",
    "wImg4 = widgets.Image(layout = widgets.Layout(border=\"solid\"), width=\"20%\")\n",
    "\n",
    "items = [wImg1, wImg2, wImg3, wImg4]\n",
    "box = Box(children=items)\n",
    "\n",
    "display.display(box)\n",
    "\n",
    "while True:\n",
    "    try:\n",
    "        retval, frame = cap.read()\n",
    "        if not retval:\n",
    "            break\n",
    "        t+=1\n",
    "        \n",
    "        gray = cv2.cvtColor(frame,cv2.COLOR_BGR2GRAY)\n",
    "        \n",
    "        diff_gray = cv2.absdiff(gray,bkg_gray)\n",
    "        diff_bgr = cv2.absdiff(frame,bkg_bgr)\n",
    "        \n",
    "        db,dg,dr = cv2.split(diff_bgr)\n",
    "        ret,bb = cv2.threshold(db,TH,255,cv2.THRESH_BINARY)\n",
    "        ret,bg = cv2.threshold(dg,TH,255,cv2.THRESH_BINARY)\n",
    "        ret,br = cv2.threshold(dr,TH,255,cv2.THRESH_BINARY)\n",
    "        \n",
    "        bImage = cv2.bitwise_or(bb,bg)\n",
    "        bImage = cv2.bitwise_or(br,bImage)\n",
    "        bImage = cv2.erode(bImage,None,5)\n",
    "        bImage = cv2.dilate(bImage,None,5)\n",
    "        bImage = cv2.erode(bImage,None,7)\n",
    "#         k = cv2.getStructuringElement(cv2.MORPH_ELLIPSE, (3,3))\n",
    "#         bImage = cv2.erode(bImage, k)\n",
    "        \n",
    "        contours,hierarchy = cv2.findContours(bImage,mode,method)\n",
    "        cv2.drawContours(frame,contours,-1,(255,0,0),1)\n",
    "        \n",
    "        for i,cnt in enumerate(contours):\n",
    "            area = cv2.contourArea(cnt)\n",
    "            if area>AREA_TH:\n",
    "                x,y,width,height = cv2.boundingRect(cnt)\n",
    "                cv2.rectangle(frame,(x,y),(x+width,y+height),(0,0,255),2)\n",
    "            \n",
    "        wImg1.value = cv2.imencode(\".jpeg\", frame)[1].tobytes()\n",
    "        wImg2.value = cv2.imencode(\".jpeg\", bImage)[1].tobytes()\n",
    "        wImg3.value = cv2.imencode(\".jpeg\", diff_gray)[1].tobytes()\n",
    "        wImg4.value = cv2.imencode(\".jpeg\", diff_bgr)[1].tobytes()\n",
    "        cv2.imwrite(\"./result/frame%d.png\" % t, bImage) \n",
    "    \n",
    "    except KeyboardInterrupt:\n",
    "        break\n",
    "        \n",
    "if cap.isOpened():\n",
    "    cap.release()"
   ]
  },
  {
   "cell_type": "code",
   "execution_count": null,
   "metadata": {},
   "outputs": [],
   "source": []
  },
  {
   "cell_type": "code",
   "execution_count": null,
   "metadata": {},
   "outputs": [],
   "source": []
  }
 ],
 "metadata": {
  "kernelspec": {
   "display_name": "Python 3",
   "language": "python",
   "name": "python3"
  },
  "language_info": {
   "codemirror_mode": {
    "name": "ipython",
    "version": 3
   },
   "file_extension": ".py",
   "mimetype": "text/x-python",
   "name": "python",
   "nbconvert_exporter": "python",
   "pygments_lexer": "ipython3",
   "version": "3.8.5"
  }
 },
 "nbformat": 4,
 "nbformat_minor": 4
}
