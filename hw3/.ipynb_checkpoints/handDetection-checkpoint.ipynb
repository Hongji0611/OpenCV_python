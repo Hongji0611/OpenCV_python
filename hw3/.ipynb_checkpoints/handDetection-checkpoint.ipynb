{
 "cells": [
  {
   "cell_type": "code",
   "execution_count": 14,
   "metadata": {},
   "outputs": [],
   "source": [
    "import os\n",
    "import re\n",
    "import cv2 # opencv library\n",
    "import numpy as np\n",
    "from os.path import isfile, join\n",
    "import matplotlib.pyplot as plt"
   ]
  },
  {
   "cell_type": "code",
   "execution_count": null,
   "metadata": {},
   "outputs": [
    {
     "name": "stdout",
     "output_type": "stream",
     "text": [
      "Saved frame number : 10\n",
      "Saved frame number : 20\n",
      "Saved frame number : 30\n",
      "Saved frame number : 40\n",
      "Saved frame number : 50\n",
      "Saved frame number : 60\n",
      "Saved frame number : 70\n",
      "Saved frame number : 80\n"
     ]
    }
   ],
   "source": [
    "# 피부색 추출\n",
    "vidcap = cv2.VideoCapture('./example/Project_outdoor video1.mov')\n",
    "count = 0 \n",
    "\n",
    "col_images=[]\n",
    "\n",
    "while(vidcap.isOpened()): \n",
    "    ret, image = vidcap.read() \n",
    "    if(int(vidcap.get(1)) % 5 == 0): \n",
    "        print('Saved frame number : ' + str(int(vidcap.get(1)))) \n",
    "        cv2.imwrite(\"./result/frame%d.png\" % count, image)\n",
    "        col_images.append(image)\n",
    "        count += 1       \n",
    "vidcap.release()"
   ]
  },
  {
   "cell_type": "code",
   "execution_count": null,
   "metadata": {},
   "outputs": [],
   "source": []
  }
 ],
 "metadata": {
  "kernelspec": {
   "display_name": "Python 3",
   "language": "python",
   "name": "python3"
  },
  "language_info": {
   "codemirror_mode": {
    "name": "ipython",
    "version": 3
   },
   "file_extension": ".py",
   "mimetype": "text/x-python",
   "name": "python",
   "nbconvert_exporter": "python",
   "pygments_lexer": "ipython3",
   "version": "3.8.5"
  }
 },
 "nbformat": 4,
 "nbformat_minor": 4
}
