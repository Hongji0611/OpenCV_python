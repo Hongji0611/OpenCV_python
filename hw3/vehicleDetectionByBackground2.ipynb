{
 "cells": [
  {
   "cell_type": "code",
   "execution_count": 36,
   "metadata": {},
   "outputs": [],
   "source": [
    "import cv2\n",
    "import numpy as np\n",
    "import ipywidgets as widgets \n",
    "import IPython.display as display\n",
    "from ipywidgets import Box"
   ]
  },
  {
   "cell_type": "code",
   "execution_count": 37,
   "metadata": {},
   "outputs": [
    {
     "data": {
      "application/vnd.jupyter.widget-view+json": {
       "model_id": "b4c4c7b3dfc2467fa6c18635599f9f76",
       "version_major": 2,
       "version_minor": 0
      },
      "text/plain": [
       "Box(children=(Image(value=b'', layout=\"Layout(border='solid')\", width='50%'), Image(value=b'', layout=\"Layout(…"
      ]
     },
     "metadata": {},
     "output_type": "display_data"
    }
   ],
   "source": [
    "cap = cv2.VideoCapture('./example/Car video2.mp4')\n",
    "\n",
    "width = int(cap.get(3)) # 가로 길이\n",
    "height = int(cap.get(4)) # 세로 길이\n",
    "\n",
    "count = 0\n",
    "\n",
    "back_img = cv2.imread('./background/back_img.png')\n",
    "back_img = cv2.resize(back_img, dsize=(width,height), interpolation=cv2.INTER_AREA)\n",
    "\n",
    "widget1 = widgets.Image(layout = widgets.Layout(border=\"solid\"), width=\"50%\") \n",
    "widget2 = widgets.Image(layout = widgets.Layout(border=\"solid\"), width=\"50%\")\n",
    "\n",
    "items = [widget1, widget2]\n",
    "box = Box(children=items)\n",
    "display.display(box)\n",
    "kernel = np.ones((3,3), np.uint8)\n",
    "kernel2 = np.ones((4,4), np.uint8)\n",
    "\n",
    "while True:\n",
    "    try:\n",
    "        ret, frame = cap.read()\n",
    "        if not ret:\n",
    "            break\n",
    "        sub_img = cv2.absdiff(frame,back_img)\n",
    "        \n",
    "        B,G,R = cv2.split(sub_img)\n",
    "        ret,B = cv2.threshold(B,35,255,cv2.THRESH_BINARY)\n",
    "        ret,G = cv2.threshold(G,35,255,cv2.THRESH_BINARY)\n",
    "        ret,R = cv2.threshold(R,35,255,cv2.THRESH_BINARY)\n",
    "        \n",
    "        thres_img = cv2.bitwise_or(B,G)\n",
    "        thres_img = cv2.bitwise_or(R,thres_img)\n",
    "        thres_img = cv2.dilate(thres_img,kernel,2)\n",
    "        thres_img = cv2.erode(thres_img,kernel2, 1)\n",
    "    \n",
    "        box_round,temp = cv2.findContours(thres_img,cv2.RETR_EXTERNAL,cv2.CHAIN_APPROX_SIMPLE)\n",
    "        \n",
    "        for i, now in enumerate(box_round):\n",
    "            area = cv2.contourArea(now)\n",
    "            if area>110:\n",
    "                x,y,width,height = cv2.boundingRect(now)\n",
    "                cv2.rectangle(frame,(x,y),(x+width,y+height),(255,0, 0),2)\n",
    "        \n",
    "        widget1.value = cv2.imencode(\".png\", frame)[1].tobytes()\n",
    "        widget2.value = cv2.imencode(\".png\", thres_img)[1].tobytes()\n",
    "        count +=1\n",
    "    \n",
    "    except KeyboardInterrupt:\n",
    "        break\n",
    "        \n",
    "if cap.isOpened():\n",
    "    cap.release()"
   ]
  },
  {
   "cell_type": "code",
   "execution_count": null,
   "metadata": {},
   "outputs": [],
   "source": []
  }
 ],
 "metadata": {
  "kernelspec": {
   "display_name": "Python 3",
   "language": "python",
   "name": "python3"
  },
  "language_info": {
   "codemirror_mode": {
    "name": "ipython",
    "version": 3
   },
   "file_extension": ".py",
   "mimetype": "text/x-python",
   "name": "python",
   "nbconvert_exporter": "python",
   "pygments_lexer": "ipython3",
   "version": "3.8.5"
  }
 },
 "nbformat": 4,
 "nbformat_minor": 4
}
