{
 "cells": [
  {
   "cell_type": "code",
   "execution_count": 2,
   "metadata": {},
   "outputs": [],
   "source": [
    "import cv2 \n",
    "import numpy as np \n"
   ]
  },
  {
   "cell_type": "code",
   "execution_count": 3,
   "metadata": {},
   "outputs": [],
   "source": [
    "img = cv2.imread('Fig0507(a)(ckt-board-orig).jpg')\n",
    "height, width, channel = img.shape\n",
    "\n",
    "# 결과 배열 생성\n",
    "out1 = np.zeros((height + 2, width + 2, channel), dtype=np.float) \n",
    "out1[1: 1 + height, 1: 1 + width] = img.copy().astype(np.float)\n",
    "temp1 = out1.copy()\n",
    "\n",
    "mask = 3\n",
    "\n",
    "for i in range(height):\n",
    "    for j in range(width): \n",
    "        for k in range(channel): # mask size만큼 중간값 계산\n",
    "            out1[1 + i, 1 + j, k] = np.median(temp1[i:i + mask, j:j + mask, k])\n",
    "            \n",
    "out1 = out1[1:1 + height, 1:1 + width].astype(np.uint8) \n",
    "cv2.imshow('result', out1)\n",
    "cv2.waitKey(0)\n",
    "cv2.destroyAllWindows()"
   ]
  },
  {
   "cell_type": "code",
   "execution_count": 16,
   "metadata": {},
   "outputs": [],
   "source": []
  },
  {
   "cell_type": "code",
   "execution_count": 11,
   "metadata": {},
   "outputs": [],
   "source": []
  },
  {
   "cell_type": "code",
   "execution_count": null,
   "metadata": {},
   "outputs": [],
   "source": []
  }
 ],
 "metadata": {
  "kernelspec": {
   "display_name": "Python 3",
   "language": "python",
   "name": "python3"
  },
  "language_info": {
   "codemirror_mode": {
    "name": "ipython",
    "version": 3
   },
   "file_extension": ".py",
   "mimetype": "text/x-python",
   "name": "python",
   "nbconvert_exporter": "python",
   "pygments_lexer": "ipython3",
   "version": "3.8.5"
  }
 },
 "nbformat": 4,
 "nbformat_minor": 4
}
