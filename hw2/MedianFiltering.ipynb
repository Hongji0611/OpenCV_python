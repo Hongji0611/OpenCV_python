{
 "cells": [
  {
   "cell_type": "code",
   "execution_count": 29,
   "metadata": {},
   "outputs": [],
   "source": [
    "import cv2 \n",
    "import numpy as np \n",
    "import ipywidgets as widgets \n",
    "from IPython.display import display\n",
    "import io\n",
    "import time"
   ]
  },
  {
   "cell_type": "code",
   "execution_count": 30,
   "metadata": {},
   "outputs": [
    {
     "data": {
      "application/vnd.jupyter.widget-view+json": {
       "model_id": "a388b5efdb9e442f86e32fac6b9a606f",
       "version_major": 2,
       "version_minor": 0
      },
      "text/plain": [
       "Image(value=b'\\xff\\xd8\\xff\\xe0\\x00\\x10JFIF\\x00\\x01\\x01\\x00\\x00\\x01\\x00\\x01\\x00\\x00\\xff\\xdb\\x00C\\x00\\x02\\x01\\x0…"
      ]
     },
     "metadata": {},
     "output_type": "display_data"
    }
   ],
   "source": [
    "img = cv2.imread('Fig0504(i)(salt-pepper-noise).jpg')\n",
    "height, width, channel = img.shape\n",
    "\n",
    "# 결과 배열 생성\n",
    "out1 = np.zeros((height + 2, width + 2, channel), dtype=np.float) \n",
    "out1[1: 1 + height, 1: 1 + width] = img.copy().astype(np.float)\n",
    "temp1 = out1.copy()\n",
    "\n",
    "mask = 3\n",
    "\n",
    "for i in range(height):\n",
    "    for j in range(width): \n",
    "        for k in range(channel): # mask size만큼 중간값 계산\n",
    "            out1[1 + i, 1 + j, k] = np.median(temp1[i:i + mask, j:j + mask, k])\n",
    "            \n",
    "out1 = out1[1:1 + height, 1:1 + width].astype(np.uint8) \n",
    "\n",
    "show_img = widgets.Image(\n",
    "    value= cv2.imencode(\".jpeg\", out1)[1].tobytes(),\n",
    "    format='jpec',\n",
    ")\n",
    "display(show_img)"
   ]
  },
  {
   "cell_type": "code",
   "execution_count": null,
   "metadata": {},
   "outputs": [],
   "source": []
  },
  {
   "cell_type": "code",
   "execution_count": 11,
   "metadata": {},
   "outputs": [],
   "source": []
  },
  {
   "cell_type": "code",
   "execution_count": null,
   "metadata": {},
   "outputs": [],
   "source": []
  }
 ],
 "metadata": {
  "kernelspec": {
   "display_name": "Python 3",
   "language": "python",
   "name": "python3"
  },
  "language_info": {
   "codemirror_mode": {
    "name": "ipython",
    "version": 3
   },
   "file_extension": ".py",
   "mimetype": "text/x-python",
   "name": "python",
   "nbconvert_exporter": "python",
   "pygments_lexer": "ipython3",
   "version": "3.8.5"
  }
 },
 "nbformat": 4,
 "nbformat_minor": 4
}
