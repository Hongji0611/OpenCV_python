{
 "cells": [
  {
   "cell_type": "code",
   "execution_count": 15,
   "metadata": {},
   "outputs": [],
   "source": [
    "import cv2\n",
    "import numpy as np\n",
    "import matplotlib.pyplot as plt\n",
    "import ipywidgets as widgets \n",
    "import IPython.display as display\n",
    "from ipywidgets import Layout, Button, Box, Layout, Image, IntSlider, AppLayout\n",
    "import matplotlib.animation as animation"
   ]
  },
  {
   "cell_type": "code",
   "execution_count": 16,
   "metadata": {},
   "outputs": [
    {
     "data": {
      "application/vnd.jupyter.widget-view+json": {
       "model_id": "137a6336471f497ba2687377ab338cfe",
       "version_major": 2,
       "version_minor": 0
      },
      "text/plain": [
       "Box(children=(Image(value=b'', layout=\"Layout(border='solid')\", width='30%'), Image(value=b'', layout=\"Layout(…"
      ]
     },
     "metadata": {},
     "output_type": "display_data"
    },
    {
     "data": {
      "text/plain": [
       "True"
      ]
     },
     "execution_count": 16,
     "metadata": {},
     "output_type": "execute_result"
    }
   ],
   "source": [
    "cap = cv2.VideoCapture('./example/Car video2.mp4')\n",
    "\n",
    "if(not cap.isOpened()):\n",
    "    print('Error opening video')\n",
    "\n",
    "height,width = (int(cap.get(cv2.CAP_PROP_FRAME_HEIGHT)),int(cap.get(cv2.CAP_PROP_FRAME_WIDTH)))\n",
    "\n",
    "acc_gray = np.zeros(shape=(height,width),dtype=np.float32)\n",
    "acc_bgr = np.zeros(shape=(height,width,3),dtype=np.float32)\n",
    "t=0\n",
    "\n",
    "wImg1 = widgets.Image(layout = widgets.Layout(border=\"solid\"), width=\"30%\") \n",
    "wImg2 = widgets.Image(layout = widgets.Layout(border=\"solid\"), width=\"30%\") \n",
    "wImg3 = widgets.Image(layout = widgets.Layout(border=\"solid\"), width=\"30%\") \n",
    "\n",
    "items = [wImg1, wImg2, wImg3]\n",
    "box = Box(children=items)\n",
    "\n",
    "display.display(box)\n",
    "\n",
    "while True:\n",
    "    try:\n",
    "        retval, frame = cap.read()\n",
    "        if not retval:\n",
    "            break\n",
    "        t+=1\n",
    "        gray = cv2.cvtColor(frame,cv2.COLOR_BGR2GRAY)\n",
    "        \n",
    "        cv2.accumulate(gray,acc_gray)\n",
    "        avg_gray = acc_gray/t\n",
    "        dst_gray = cv2.convertScaleAbs(avg_gray)\n",
    "        \n",
    "        cv2.accumulate(frame,acc_bgr)\n",
    "        avg_bgr = acc_bgr/t\n",
    "        dst_bgr = cv2.convertScaleAbs(avg_bgr)\n",
    "        \n",
    "        wImg1.value = cv2.imencode(\".jpeg\", frame)[1].tobytes()\n",
    "        wImg2.value = cv2.imencode(\".jpeg\", dst_gray)[1].tobytes()\n",
    "        wImg3.value = cv2.imencode(\".jpeg\", dst_bgr)[1].tobytes()\n",
    "    \n",
    "    except KeyboardInterrupt:\n",
    "        break\n",
    "        \n",
    "if cap.isOpened():\n",
    "    cap.release()\n",
    "\n",
    "cv2.imwrite('./data/avg_gray.png',dst_gray)\n",
    "cv2.imwrite('./data/avg_bgr.png',dst_bgr)"
   ]
  },
  {
   "cell_type": "code",
   "execution_count": null,
   "metadata": {},
   "outputs": [],
   "source": []
  }
 ],
 "metadata": {
  "kernelspec": {
   "display_name": "Python 3",
   "language": "python",
   "name": "python3"
  },
  "language_info": {
   "codemirror_mode": {
    "name": "ipython",
    "version": 3
   },
   "file_extension": ".py",
   "mimetype": "text/x-python",
   "name": "python",
   "nbconvert_exporter": "python",
   "pygments_lexer": "ipython3",
   "version": "3.8.5"
  }
 },
 "nbformat": 4,
 "nbformat_minor": 4
}
