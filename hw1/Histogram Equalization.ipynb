{
 "cells": [
  {
   "cell_type": "code",
   "execution_count": 3,
   "metadata": {
    "scrolled": true
   },
   "outputs": [
    {
     "data": {
      "image/png": "[encoded data removed]",
      "text/plain": [
       "<Figure size 432x288 with 1 Axes>"
      ]
     },
     "metadata": {
      "needs_background": "light"
     },
     "output_type": "display_data"
    },
    {
     "data": {
      "image/png": "[encoded data removed]",
      "text/plain": [
       "<Figure size 432x288 with 1 Axes>"
      ]
     },
     "metadata": {
      "needs_background": "light"
     },
     "output_type": "display_data"
    },
    {
     "ename": "NameError",
     "evalue": "name 'widgets' is not defined",
     "output_type": "error",
     "traceback": [
      "\u001b[1;31m---------------------------------------------------------------------------\u001b[0m",
      "\u001b[1;31mNameError\u001b[0m                                 Traceback (most recent call last)",
      "\u001b[1;32m<ipython-input-3-c5721c403f33>\u001b[0m in \u001b[0;36m<module>\u001b[1;34m\u001b[0m\n\u001b[0;32m     34\u001b[0m \u001b[1;33m\u001b[0m\u001b[0m\n\u001b[0;32m     35\u001b[0m \u001b[1;33m\u001b[0m\u001b[0m\n\u001b[1;32m---> 36\u001b[1;33m show_img = widgets.Image(\n\u001b[0m\u001b[0;32m     37\u001b[0m     \u001b[0mvalue\u001b[0m \u001b[1;33m=\u001b[0m \u001b[0mcv2\u001b[0m\u001b[1;33m.\u001b[0m\u001b[0mimencode\u001b[0m\u001b[1;33m(\u001b[0m\u001b[1;34m\".jpeg\"\u001b[0m\u001b[1;33m,\u001b[0m \u001b[0msrc\u001b[0m\u001b[1;33m)\u001b[0m\u001b[1;33m[\u001b[0m\u001b[1;36m1\u001b[0m\u001b[1;33m]\u001b[0m\u001b[1;33m.\u001b[0m\u001b[0mtobytes\u001b[0m\u001b[1;33m(\u001b[0m\u001b[1;33m)\u001b[0m\u001b[1;33m,\u001b[0m\u001b[1;33m\u001b[0m\u001b[1;33m\u001b[0m\u001b[0m\n\u001b[0;32m     38\u001b[0m     \u001b[0mformat\u001b[0m \u001b[1;33m=\u001b[0m \u001b[1;34m'jpeg'\u001b[0m\u001b[1;33m\u001b[0m\u001b[1;33m\u001b[0m\u001b[0m\n",
      "\u001b[1;31mNameError\u001b[0m: name 'widgets' is not defined"
     ]
    }
   ],
   "source": [
    "import cv2\n",
    "import numpy as np\n",
    "from matplotlib import pyplot as plt\n",
    "\n",
    "src = cv2.imread('3. Negative test.tif', cv2.IMREAD_GRAYSCALE)\n",
    "height, width = src.shape[0], src.shape[1]\n",
    "\n",
    "plt.hist(src.flatten(),256,[0,256], color = 'r')\n",
    "plt.xlim([0,256])\n",
    "plt.show()\n",
    "\n",
    "histogram = np.zeros(256)\n",
    "lookUpTable = np.zeros(256)\n",
    "    \n",
    "for i in range(height):\n",
    "    for j in range(width):\n",
    "        histogram[src[i][j]] += 1\n",
    "\n",
    "sum = 0.0\n",
    "scale_factor = 255.0/(height * width)\n",
    "\n",
    "for i in range(256):\n",
    "    sum += histogram[i]\n",
    "    lookUpTable[i] = round( sum * scale_factor )\n",
    "\n",
    "for i in range(height):\n",
    "    for j in range(width):\n",
    "        src[i][j] = lookUpTable[src[i][j]]\n",
    "\n",
    "plt.hist(src.flatten(),256,[0,256], color = 'b')\n",
    "plt.xlim([0,256])\n",
    "plt.show()\n",
    "\n",
    "\n",
    "    \n",
    "show_img = widgets.Image(\n",
    "    value = cv2.imencode(\".jpeg\", src)[1].tobytes(),\n",
    "    format = 'jpeg'\n",
    ")\n",
    "display(show_img)\n",
    "time.sleep(2)\n",
    "show_img.close()"
   ]
  },
  {
   "cell_type": "code",
   "execution_count": null,
   "metadata": {},
   "outputs": [],
   "source": [
    "def gaussianFiltering_gray(name):\n",
    "    try:\n",
    "        img = Image.open(\"./example/hw2/%s\" %name)\n",
    "    except IOError:\n",
    "        img = Image.open(\"./example/hw2/Fig0504(i)(salt-pepper-noise).jpg\")\n",
    "\n",
    "    img_arr = np.asarray(img)\n",
    "    img_arr = img_arr.astype('float32')\n",
    "\n",
    "    img_result = convolution(img_arr, gaussian2D(3))\n",
    "    img_result = img_result.astype('uint8')\n",
    "    img_result = Image.fromarray(img_result)\n",
    "    \n",
    "    save_img = np.array(img_result)\n",
    "    cv2.imwrite(\"./result/gaussianFilterGray.png\", save_img) \n",
    "   \n",
    "    img_byte_arr = io.BytesIO()\n",
    "    img_result.save(img_byte_arr, format='PNG')\n",
    "    img_byte_arr = img_byte_arr.getvalue()\n",
    "\n",
    "    show_img = widgets.Image(\n",
    "        value=img_byte_arr,\n",
    "        format='png',\n",
    "        width=300,\n",
    "        height=400,\n",
    "    )\n",
    "    display(show_img)\n",
    "    time.sleep(2)\n",
    "    show_img.close()"
   ]
  },
  {
   "cell_type": "code",
   "execution_count": null,
   "metadata": {},
   "outputs": [],
   "source": []
  },
  {
   "cell_type": "code",
   "execution_count": null,
   "metadata": {},
   "outputs": [],
   "source": []
  }
 ],
 "metadata": {
  "kernelspec": {
   "display_name": "Python 3",
   "language": "python",
   "name": "python3"
  },
  "language_info": {
   "codemirror_mode": {
    "name": "ipython",
    "version": 3
   },
   "file_extension": ".py",
   "mimetype": "text/x-python",
   "name": "python",
   "nbconvert_exporter": "python",
   "pygments_lexer": "ipython3",
   "version": "3.8.5"
  }
 },
 "nbformat": 4,
 "nbformat_minor": 4
}
