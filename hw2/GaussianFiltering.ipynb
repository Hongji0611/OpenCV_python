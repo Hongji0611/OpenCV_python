{
 "cells": [
  {
   "cell_type": "code",
   "execution_count": 23,
   "metadata": {},
   "outputs": [],
   "source": [
    "import cv2\n",
    "import numpy as np\n",
    "from math import acos, pi, sqrt\n",
    "from PIL import Image, ImageFilter\n",
    "import ipywidgets as widgets \n",
    "from IPython.display import display\n",
    "import io"
   ]
  },
  {
   "cell_type": "code",
   "execution_count": 24,
   "metadata": {},
   "outputs": [],
   "source": [
    "def gaussian1D(sigma):\n",
    "    a = sigma\n",
    "    \n",
    "    if a % 2 == 0: #mask size가 짝수일 경우 1을 키운다\n",
    "        a+=1\n",
    "        \n",
    "    a2 = a/2\n",
    "    filter_size = np.array(range(-int(a/2),int(a/2)+1))\n",
    "    result = np.zeros(len(filter_size))\n",
    "    \n",
    "    for i in range(len(filter_size)):\n",
    "        x = i-a2\n",
    "        result[i] =  float(np.exp(-(x**2)/(2*sigma**2)) / (2*3.14*sigma**2)) #가우시안 공식\n",
    "    \n",
    "    total = np.sum(result)\n",
    "    result/=total\n",
    "    \n",
    "    return result"
   ]
  },
  {
   "cell_type": "code",
   "execution_count": 25,
   "metadata": {},
   "outputs": [],
   "source": [
    "def gaussian2D(sigma):\n",
    "    # 두 벡터를 외적하여 x,y 2차원 mask를 생성\n",
    "    result = np.outer(gaussian1D(sigma),gaussian1D(sigma))\n",
    "    total = np.sum(result)\n",
    "    result/=total\n",
    "    \n",
    "    return result"
   ]
  },
  {
   "cell_type": "code",
   "execution_count": 26,
   "metadata": {},
   "outputs": [
    {
     "name": "stdout",
     "output_type": "stream",
     "text": [
      "[[0.09555231 0.10678153 0.10678153]\n",
      " [0.10678153 0.11933039 0.11933039]\n",
      " [0.10678153 0.11933039 0.11933039]]\n"
     ]
    }
   ],
   "source": [
    "print(gaussian2D(3))"
   ]
  },
  {
   "cell_type": "code",
   "execution_count": 27,
   "metadata": {},
   "outputs": [],
   "source": [
    "def convolution(array, f):\n",
    "    a = (len(f)-1)//2\n",
    "    # boundery를 0으로 채운다\n",
    "    img_pad = np.pad(array, ((a,a),(a,a)),'constant')\n",
    "    \n",
    "    #convolution을 위해 2번 뒤집는다\n",
    "    mask = np.rot90(f)\n",
    "    mask = np.rot90(mask)\n",
    "    \n",
    "    result_img = np.zeros((len(array), len(array[0])))\n",
    "    result_img = result_img.astype('float32')\n",
    "    \n",
    "    for i in range(len(result_img)):\n",
    "        for j in range(len(result_img[0])):\n",
    "            result_img[i][j] = np.sum(img_pad[i:i+len(f),j:j+len(f)]*mask)\n",
    "    \n",
    "    return result_img"
   ]
  },
  {
   "cell_type": "code",
   "execution_count": 28,
   "metadata": {},
   "outputs": [],
   "source": [
    "def real_convolution(array, sigma):\n",
    "    return convolution(array, gaussian2D(sigma))"
   ]
  },
  {
   "cell_type": "code",
   "execution_count": 29,
   "metadata": {},
   "outputs": [
    {
     "data": {
      "application/vnd.jupyter.widget-view+json": {
       "model_id": "c2bf1bf48d444817821ddf3cdab3c367",
       "version_major": 2,
       "version_minor": 0
      },
      "text/plain": [
       "Image(value=b'\\x89PNG\\r\\n\\x1a\\n\\x00\\x00\\x00\\rIHDR\\x00\\x00\\x01\\x00\\x00\\x00\\x01\\x00\\x08\\x00\\x00\\x00\\x00y\\x19\\xf7…"
      ]
     },
     "metadata": {},
     "output_type": "display_data"
    }
   ],
   "source": [
    "img = Image.open('Fig0504(i)(salt-pepper-noise).jpg')\n",
    "\n",
    "img_arr = np.asarray(img)\n",
    "img_arr = img_arr.astype('float32')\n",
    "\n",
    "img_result = real_convolution(img_arr, 3)\n",
    "img_result = img_result.astype('uint8')\n",
    "img_result = Image.fromarray(img_result)\n",
    "\n",
    "img_byte_arr = io.BytesIO()\n",
    "img_result.save(img_byte_arr, format='PNG')\n",
    "img_byte_arr = img_byte_arr.getvalue()\n",
    "\n",
    "show_img = widgets.Image(\n",
    "    value=img_byte_arr,\n",
    "    format='png',\n",
    "    width=300,\n",
    "    height=400,\n",
    ")\n",
    "display(show_img)"
   ]
  },
  {
   "cell_type": "code",
   "execution_count": null,
   "metadata": {},
   "outputs": [],
   "source": []
  },
  {
   "cell_type": "code",
   "execution_count": null,
   "metadata": {},
   "outputs": [],
   "source": []
  }
 ],
 "metadata": {
  "kernelspec": {
   "display_name": "Python 3",
   "language": "python",
   "name": "python3"
  },
  "language_info": {
   "codemirror_mode": {
    "name": "ipython",
    "version": 3
   },
   "file_extension": ".py",
   "mimetype": "text/x-python",
   "name": "python",
   "nbconvert_exporter": "python",
   "pygments_lexer": "ipython3",
   "version": "3.8.5"
  }
 },
 "nbformat": 4,
 "nbformat_minor": 4
}
