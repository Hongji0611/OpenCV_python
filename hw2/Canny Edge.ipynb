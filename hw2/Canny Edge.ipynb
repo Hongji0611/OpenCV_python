{
 "cells": [
  {
   "cell_type": "code",
   "execution_count": 8,
   "metadata": {},
   "outputs": [],
   "source": [
    "import cv2\n",
    "import numpy as np"
   ]
  },
  {
   "cell_type": "code",
   "execution_count": 9,
   "metadata": {},
   "outputs": [],
   "source": [
    "img = cv2.imread('Fig0507(a)(ckt-board-orig).jpg')\n",
    "\n",
    "# out = cv2.Canny(img, 50, 200)\n",
    "# out2 = cv2.Canny(img, 100, 200)\n",
    "# out3 = cv2.Canny(img, 0, 200)\n",
    "\n",
    "out = cv2.Canny(img, 50, 200)\n",
    "out2 = cv2.Canny(img, 50, 100)\n",
    "out3 = cv2.Canny(img, 50, 250)\n",
    "\n",
    "cv2.imshow('50 200', out)\n",
    "cv2.imshow('50 100', out2)\n",
    "cv2.imshow('50 250', out3)\n",
    "\n",
    "\n",
    "cv2.waitKey(0)\n",
    "cv2.destroyAllWindows()"
   ]
  },
  {
   "cell_type": "code",
   "execution_count": null,
   "metadata": {},
   "outputs": [],
   "source": []
  }
 ],
 "metadata": {
  "kernelspec": {
   "display_name": "Python 3",
   "language": "python",
   "name": "python3"
  },
  "language_info": {
   "codemirror_mode": {
    "name": "ipython",
    "version": 3
   },
   "file_extension": ".py",
   "mimetype": "text/x-python",
   "name": "python",
   "nbconvert_exporter": "python",
   "pygments_lexer": "ipython3",
   "version": "3.8.5"
  }
 },
 "nbformat": 4,
 "nbformat_minor": 4
}
