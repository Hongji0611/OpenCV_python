{
 "cells": [
  {
   "cell_type": "code",
   "execution_count": 30,
   "metadata": {},
   "outputs": [],
   "source": [
    "import cv2\n",
    "import numpy as np\n",
    "import ipywidgets as widgets \n",
    "from ipywidgets import Box\n",
    "import IPython.display as display"
   ]
  },
  {
   "cell_type": "code",
   "execution_count": 31,
   "metadata": {},
   "outputs": [
    {
     "data": {
      "application/vnd.jupyter.widget-view+json": {
       "model_id": "c463a2e650d54403955edf19a4cb66c9",
       "version_major": 2,
       "version_minor": 0
      },
      "text/plain": [
       "Box(children=(Image(value=b'', layout=\"Layout(border='solid')\", width='50%'), Image(value=b'', layout=\"Layout(…"
      ]
     },
     "metadata": {},
     "output_type": "display_data"
    },
    {
     "name": "stdout",
     "output_type": "stream",
     "text": [
      "finish\n"
     ]
    }
   ],
   "source": [
    "cap = cv2.VideoCapture('./example/Project- hand gesture.AVI')\n",
    "\n",
    "width = int(cap.get(3)) # 가로 길이\n",
    "height = int(cap.get(4)) # 세로 길이\n",
    "fps = 5 # 프레임 수\n",
    "\n",
    "count = 0\n",
    "\n",
    "# 동영상을 output으로 저장할 때\n",
    "fcc = cv2.VideoWriter_fourcc('D', 'I', 'V', 'X')\n",
    "out = cv2.VideoWriter('output.avi', fcc, fps, (width, height))\n",
    "\n",
    "widget1 = widgets.Image(layout = widgets.Layout(border=\"solid\"), width=\"50%\")\n",
    "widget2 = widgets.Image(layout = widgets.Layout(border=\"solid\"), width=\"50%\")\n",
    "\n",
    "output = [widget1, widget2]\n",
    "box = Box(children=output)\n",
    "display.display(box)\n",
    "\n",
    "while (cap.isOpened()) :\n",
    "    ret, image = cap.read() \n",
    "    if ret : #frame이 존재한다면\n",
    "        #1. 전처리\n",
    "        image = cv2.GaussianBlur(image, (5,5),0)\n",
    "        \n",
    "        #2.피부 검출\n",
    "        YCrCb = cv2.cvtColor(image, cv2.COLOR_BGR2YCrCb)\n",
    "        mask_hand = cv2.inRange(YCrCb,np.array([0,138,76]),np.array([255,175,127]))\n",
    "        mask_color = cv2.bitwise_and(image,image, mask=mask_hand)\n",
    "        \n",
    "        #3. 후처리\n",
    "        mask_color = cv2.erode(mask_color,None,1)\n",
    "        \n",
    "        #4. 이미지 저장 및 출력\n",
    "        cv2.imwrite(\"./result/frame%d.png\" % count, mask_color) \n",
    "        count += 1 \n",
    "        out.write(mask_color)\n",
    "        widget1.value = cv2.imencode(\".jpeg\", image)[1].tobytes()\n",
    "        widget2.value = cv2.imencode(\".jpeg\", mask_color)[1].tobytes()\n",
    "\n",
    "        if cv2.waitKey(1) & 0xFF == ord('q') : break\n",
    "    else :\n",
    "        print(\"finish\")\n",
    "        break\n",
    "\n",
    "if cap.isOpened():\n",
    "    cap.release()\n",
    "\n",
    "if out.isOpened():\n",
    "    out.release()"
   ]
  },
  {
   "cell_type": "code",
   "execution_count": null,
   "metadata": {},
   "outputs": [],
   "source": []
  }
 ],
 "metadata": {
  "kernelspec": {
   "display_name": "Python 3",
   "language": "python",
   "name": "python3"
  },
  "language_info": {
   "codemirror_mode": {
    "name": "ipython",
    "version": 3
   },
   "file_extension": ".py",
   "mimetype": "text/x-python",
   "name": "python",
   "nbconvert_exporter": "python",
   "pygments_lexer": "ipython3",
   "version": "3.8.5"
  }
 },
 "nbformat": 4,
 "nbformat_minor": 4
}
