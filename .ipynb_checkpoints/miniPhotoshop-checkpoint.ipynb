{
 "cells": [
  {
   "cell_type": "code",
   "execution_count": 132,
   "metadata": {},
   "outputs": [],
   "source": [
    "import ipywidgets as widgets \n",
    "from IPython.display import display\n",
    "import cv2\n",
    "import numpy as np\n",
    "from ipywidgets import Box"
   ]
  },
  {
   "cell_type": "code",
   "execution_count": 133,
   "metadata": {},
   "outputs": [],
   "source": [
    "def handDetection(name):\n",
    "    cap = cv2.VideoCapture('./example/hw3/%s' %name)\n",
    "    k = cap.isOpened()\n",
    "    \n",
    "    if k==False:\n",
    "        cap.open(\"./example/hw3/Hand Video2.mov\")\n",
    "\n",
    "    width = int(cap.get(3)) # 가로 길이\n",
    "    height = int(cap.get(4)) # 세로 길이\n",
    "    fps = cap.get(cv2.CAP_PROP_FPS)\n",
    "\n",
    "    count = 0\n",
    "\n",
    "    # 동영상을 output으로 저장할 때\n",
    "    fcc = cv2.VideoWriter_fourcc('D', 'I', 'V', 'X')\n",
    "    out = cv2.VideoWriter('./result/output.avi', fcc, fps, (width, height))\n",
    "\n",
    "    widget1 = widgets.Image(layout = widgets.Layout(border=\"solid\"), width=\"50%\")\n",
    "    widget2 = widgets.Image(layout = widgets.Layout(border=\"solid\"), width=\"50%\")\n",
    "\n",
    "    output = [widget1, widget2]\n",
    "    box = Box(children=output)\n",
    "    display(box)\n",
    "\n",
    "    while True :\n",
    "        try:\n",
    "            ret, image = cap.read() \n",
    "            if not ret:\n",
    "                break\n",
    "            #1. 전처리\n",
    "            image = cv2.GaussianBlur(image, (5,5),0)\n",
    "\n",
    "            #2.피부 검출\n",
    "            YCrCb = cv2.cvtColor(image, cv2.COLOR_BGR2YCrCb)\n",
    "            mask_hand = cv2.inRange(YCrCb,np.array([0,138,76]),np.array([255,175,127]))\n",
    "            mask_color = cv2.bitwise_and(image,image, mask=mask_hand)\n",
    "\n",
    "            #3. 후처리\n",
    "            mask_color = cv2.erode(mask_color,None,1)\n",
    "\n",
    "            count += 1 \n",
    "            out.write(mask_color)\n",
    "            widget1.value = cv2.imencode(\".jpeg\", image)[1].tobytes()\n",
    "            widget2.value = cv2.imencode(\".jpeg\", mask_color)[1].tobytes()\n",
    "\n",
    "        except KeyboardInterrupt: break\n",
    "    if cap.isOpened():\n",
    "        cap.release()\n",
    "\n",
    "    if out.isOpened():\n",
    "        out.release()\n",
    "    widget1.close()\n",
    "    widget2.close()"
   ]
  },
  {
   "cell_type": "code",
   "execution_count": 134,
   "metadata": {},
   "outputs": [],
   "source": [
    "def get_background(name):\n",
    "    cap = cv2.VideoCapture('./example/hw3/%s' %name)\n",
    "    k = cap.isOpened()\n",
    "    \n",
    "    if k==False:\n",
    "        cap.open(\"./example/hw3/Project_outdoor video1.mov\")\n",
    "\n",
    "    width = int(cap.get(3)) # 가로 길이\n",
    "    height = int(cap.get(4)) # 세로 길이\n",
    "    \n",
    "    back_img = np.zeros(shape=(height,width,3),dtype=np.float32)\n",
    "\n",
    "    widget1 = widgets.Image(layout = widgets.Layout(border=\"solid\"), width=\"50%\") \n",
    "    widget2 = widgets.Image(layout = widgets.Layout(border=\"solid\"), width=\"50%\") \n",
    "    items = [widget1, widget2]\n",
    "    box = Box(children=items)\n",
    "    display(box)\n",
    "\n",
    "    count = 0\n",
    "\n",
    "    while (cap.isOpened()) :\n",
    "        try:\n",
    "            ret, frame = cap.read()\n",
    "            if not ret:\n",
    "                break\n",
    "            count += 1\n",
    "            cv2.accumulate(frame,back_img)\n",
    "            average_back = back_img/count\n",
    "            result_img = cv2.convertScaleAbs(average_back)\n",
    "\n",
    "            widget1.value = cv2.imencode(\".jpeg\", frame)[1].tobytes()\n",
    "            widget2.value = cv2.imencode(\".jpeg\", result_img)[1].tobytes()\n",
    "\n",
    "        except KeyboardInterrupt: break\n",
    "\n",
    "    if cap.isOpened():\n",
    "        cap.release()\n",
    "    widget1.close()\n",
    "    widget2.close()\n",
    "    cv2.imwrite('./background/back_img.png',result_img)"
   ]
  },
  {
   "cell_type": "code",
   "execution_count": 138,
   "metadata": {},
   "outputs": [],
   "source": [
    "def vehicleDetection(name):\n",
    "    cap = cv2.VideoCapture('./example/hw3/%s' %name)\n",
    "    k = cap.isOpened()\n",
    "    \n",
    "    if k==False:\n",
    "        cap.open(\"./example/hw3/Project_outdoor video1.mov\")\n",
    "\n",
    "    width = int(cap.get(3)) # 가로 길이\n",
    "    height = int(cap.get(4)) # 세로 길이\n",
    "    fps = cap.get(cv2.CAP_PROP_FPS)\n",
    "    \n",
    "    count = 0\n",
    "\n",
    "    back_img = cv2.imread('./background/back_img.png')\n",
    "    back_img = cv2.resize(back_img, dsize=(width,height), interpolation=cv2.INTER_AREA)\n",
    "\n",
    "    widget1 = widgets.Image(layout = widgets.Layout(border=\"solid\"), width=\"50%\") \n",
    "    widget2 = widgets.Image(layout = widgets.Layout(border=\"solid\"), width=\"50%\")\n",
    "\n",
    "    items = [widget1, widget2]\n",
    "    box = Box(children=items)\n",
    "    display(box)\n",
    "    \n",
    "    # 동영상을 output으로 저장할 때\n",
    "    fcc = cv2.VideoWriter_fourcc('D', 'I', 'V', 'X')\n",
    "    out = cv2.VideoWriter('./result/output.avi', fcc, fps, (width, height))\n",
    "\n",
    "    while True:\n",
    "        try:\n",
    "            ret, frame = cap.read()\n",
    "            if not ret:\n",
    "                break\n",
    "            sub_img = cv2.absdiff(frame,back_img)\n",
    "\n",
    "            B,G,R = cv2.split(sub_img)\n",
    "            ret,B = cv2.threshold(B,35,255,cv2.THRESH_BINARY)\n",
    "            ret,G = cv2.threshold(G,35,255,cv2.THRESH_BINARY)\n",
    "            ret,R = cv2.threshold(R,35,255,cv2.THRESH_BINARY)\n",
    "\n",
    "            thres_img = cv2.bitwise_or(B,G)\n",
    "            thres_img = cv2.bitwise_or(R,thres_img)\n",
    "\n",
    "            thres_img = cv2.dilate(thres_img,None,1)\n",
    "            thres_img = cv2.erode(thres_img,None, 3)\n",
    "\n",
    "            box_round,temp = cv2.findContours(thres_img,cv2.RETR_EXTERNAL,cv2.CHAIN_APPROX_SIMPLE)\n",
    "\n",
    "            for i, now in enumerate(box_round):\n",
    "                area = cv2.contourArea(now)\n",
    "                if area>110:\n",
    "                    x,y,width,height = cv2.boundingRect(now)\n",
    "                    cv2.rectangle(frame,(x,y),(x+width,y+height),(0,255, 0),2)\n",
    "\n",
    "            widget1.value = cv2.imencode(\".png\", frame)[1].tobytes()\n",
    "            widget2.value = cv2.imencode(\".png\", thres_img)[1].tobytes()\n",
    "            count +=1\n",
    "            out.write(frame)\n",
    "\n",
    "        except KeyboardInterrupt:\n",
    "            break\n",
    "\n",
    "    if cap.isOpened():\n",
    "        cap.release()\n",
    "    widget1.close()\n",
    "    widget2.close()"
   ]
  },
  {
   "cell_type": "code",
   "execution_count": 146,
   "metadata": {},
   "outputs": [
    {
     "data": {
      "application/vnd.jupyter.widget-view+json": {
       "model_id": "bf246ceb54a4413faebdb2253e2850ed",
       "version_major": 2,
       "version_minor": 0
      },
      "text/plain": [
       "Textarea(value='', description='String:', placeholder='Type file name')"
      ]
     },
     "metadata": {},
     "output_type": "display_data"
    },
    {
     "data": {
      "application/vnd.jupyter.widget-view+json": {
       "model_id": "770b9445ffa04dda854d656fdcc9970f",
       "version_major": 2,
       "version_minor": 0
      },
      "text/plain": [
       "Box(children=(Button(description='hand detection', style=ButtonStyle()), Button(description='get background', …"
      ]
     },
     "metadata": {},
     "output_type": "display_data"
    },
    {
     "data": {
      "application/vnd.jupyter.widget-view+json": {
       "model_id": "deaa5cd91f3a4fd2baebb01a7671b860",
       "version_major": 2,
       "version_minor": 0
      },
      "text/plain": [
       "Output()"
      ]
     },
     "metadata": {},
     "output_type": "display_data"
    }
   ],
   "source": [
    "fileName = widgets.Textarea(\n",
    "    placeholder='Type file name',\n",
    "    description='String:',\n",
    ")\n",
    "\n",
    "btn_hand_detect = widgets.Button(description=\"hand detection\")\n",
    "btn_get_background = widgets.Button(description=\"get background\")\n",
    "btn_vehicle_detect = widgets.Button(description=\"vehicle detection\")\n",
    "\n",
    "output = widgets.Output()\n",
    "\n",
    "display(fileName)\n",
    "\n",
    "btn_items = [btn_hand_detect, btn_get_background, btn_vehicle_detect]\n",
    "btn_box = Box(children=btn_items)\n",
    "display(btn_box)\n",
    "\n",
    "display(output)"
   ]
  },
  {
   "cell_type": "code",
   "execution_count": 147,
   "metadata": {},
   "outputs": [],
   "source": [
    "def btn_hand_detect_clicked(b):\n",
    "    with output:\n",
    "        handDetection(fileName.value)\n",
    "\n",
    "btn_hand_detect.on_click(btn_hand_detect_clicked)\n",
    "\n",
    "def btn_get_background_clicked(b):\n",
    "    with output:\n",
    "        get_background(fileName.value)\n",
    "\n",
    "btn_get_background.on_click(btn_get_background_clicked)\n",
    "\n",
    "def btn_vehicle_detect_clicked(b):\n",
    "    with output:\n",
    "        vehicleDetection(fileName.value)\n",
    "\n",
    "btn_vehicle_detect.on_click(btn_vehicle_detect_clicked)\n",
    "\n",
    "\n"
   ]
  },
  {
   "cell_type": "code",
   "execution_count": null,
   "metadata": {},
   "outputs": [],
   "source": []
  },
  {
   "cell_type": "code",
   "execution_count": null,
   "metadata": {},
   "outputs": [],
   "source": []
  }
 ],
 "metadata": {
  "kernelspec": {
   "display_name": "Python 3",
   "language": "python",
   "name": "python3"
  },
  "language_info": {
   "codemirror_mode": {
    "name": "ipython",
    "version": 3
   },
   "file_extension": ".py",
   "mimetype": "text/x-python",
   "name": "python",
   "nbconvert_exporter": "python",
   "pygments_lexer": "ipython3",
   "version": "3.8.5"
  }
 },
 "nbformat": 4,
 "nbformat_minor": 4
}
