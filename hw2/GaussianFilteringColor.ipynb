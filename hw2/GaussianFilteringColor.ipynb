{
 "cells": [
  {
   "cell_type": "code",
   "execution_count": 20,
   "metadata": {},
   "outputs": [],
   "source": [
    "import cv2\n",
    "import numpy as np\n",
    "from PIL import Image\n",
    "import math"
   ]
  },
  {
   "cell_type": "code",
   "execution_count": 21,
   "metadata": {},
   "outputs": [],
   "source": [
    "def gaussian1D(sigma):\n",
    "    a = sigma\n",
    "    \n",
    "    if a % 2 == 0: #mask size가 짝수일 경우 1을 키운다\n",
    "        a+=1\n",
    "    \n",
    "    a2 = a/2\n",
    "    filter_size = np.array(range(-int(a/2),int(a/2)+1))\n",
    "    result = np.zeros(len(filter_size))\n",
    "    \n",
    "    for i in range(len(filter_size)):\n",
    "        x = i-a2\n",
    "        result[i] =  float(np.exp(-(x**2)/(2*sigma**2)) / (2*3.14*sigma**2)) #가우시안 공식\n",
    "    \n",
    "    total = np.sum(result)\n",
    "    result/=total\n",
    "    \n",
    "    return result"
   ]
  },
  {
   "cell_type": "code",
   "execution_count": 22,
   "metadata": {},
   "outputs": [],
   "source": [
    "def gaussian2D(sigma):\n",
    "    # 두 벡터를 외적하여 x,y 2차원 mask를 생성\n",
    "    result = np.outer(gaussian1D(sigma),gaussian1D(sigma))\n",
    "    total = np.sum(result)\n",
    "    result/=total\n",
    "    \n",
    "    return result"
   ]
  },
  {
   "cell_type": "code",
   "execution_count": 24,
   "metadata": {},
   "outputs": [],
   "source": [
    "def convolution_color(array, f):\n",
    "    a = (len(f)-1)//2\n",
    "    # boundery를 0으로 채운다\n",
    "    img_pad = np.pad(array, ((a,a),(a,a),(0,0)),'constant', constant_values=0)\n",
    "    \n",
    "    #convolution을 위해 2번 뒤집는다\n",
    "    mask = np.rot90(f)\n",
    "    mask = np.rot90(mask)\n",
    "    \n",
    "    #color img 이므로 3차원으로 배열 설정\n",
    "    result_img = np.zeros((len(array),len(array[0]),3))\n",
    "    result_img = result_img.astype('float32')\n",
    "    \n",
    "    for i in range(len(result_img)):\n",
    "        for j in range(len(result_img[0])):\n",
    "            result_img[i][j][0] = np.sum(img_pad[i:i+len(f), j:j+len(f),0]*mask)\n",
    "            result_img[i][j][1] = np.sum(img_pad[i:i+len(f), j:j+len(f),1]*mask)\n",
    "            result_img[i][j][2] = np.sum(img_pad[i:i+len(f), j:j+len(f),2]*mask)\n",
    "    return result_img"
   ]
  },
  {
   "cell_type": "code",
   "execution_count": 25,
   "metadata": {},
   "outputs": [],
   "source": [
    "def real_convolution(array, sigma):\n",
    "    return convolution(array, gaussian2D(sigma))"
   ]
  },
  {
   "cell_type": "code",
   "execution_count": 26,
   "metadata": {},
   "outputs": [],
   "source": [
    "def real_convolution_color(array, sigma):\n",
    "    return convolution_color(array, gaussian2D(sigma))"
   ]
  },
  {
   "cell_type": "code",
   "execution_count": 27,
   "metadata": {},
   "outputs": [
    {
     "name": "stdout",
     "output_type": "stream",
     "text": [
      "[[0.01730548 0.01839811 0.01916458 0.01955972 0.01955972 0.01916458\n",
      "  0.01839811]\n",
      " [0.01839811 0.01955972 0.02037459 0.02079467 0.02079467 0.02037459\n",
      "  0.01955972]\n",
      " [0.01916458 0.02037459 0.02122341 0.02166099 0.02166099 0.02122341\n",
      "  0.02037459]\n",
      " [0.01955972 0.02079467 0.02166099 0.02210759 0.02210759 0.02166099\n",
      "  0.02079467]\n",
      " [0.01955972 0.02079467 0.02166099 0.02210759 0.02210759 0.02166099\n",
      "  0.02079467]\n",
      " [0.01916458 0.02037459 0.02122341 0.02166099 0.02166099 0.02122341\n",
      "  0.02037459]\n",
      " [0.01839811 0.01955972 0.02037459 0.02079467 0.02079467 0.02037459\n",
      "  0.01955972]]\n"
     ]
    }
   ],
   "source": [
    "print(gaussian2D(7))"
   ]
  },
  {
   "cell_type": "code",
   "execution_count": 28,
   "metadata": {},
   "outputs": [],
   "source": [
    "img = Image.open('Salt&pepper noise.png')\n",
    "\n",
    "img_arr = np.asarray(img)\n",
    "img_arr = img_arr.astype('float32')\n",
    "\n",
    "img_result = real_convolution_color(img_arr, 10)\n",
    "img_result = img_result.astype('uint8')\n",
    "img_result = Image.fromarray(img_result)\n",
    "\n",
    "img_result.show()"
   ]
  }
 ],
 "metadata": {
  "kernelspec": {
   "display_name": "Python 3",
   "language": "python",
   "name": "python3"
  },
  "language_info": {
   "codemirror_mode": {
    "name": "ipython",
    "version": 3
   },
   "file_extension": ".py",
   "mimetype": "text/x-python",
   "name": "python",
   "nbconvert_exporter": "python",
   "pygments_lexer": "ipython3",
   "version": "3.8.5"
  }
 },
 "nbformat": 4,
 "nbformat_minor": 4
}
