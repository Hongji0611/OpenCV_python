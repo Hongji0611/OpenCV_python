{
 "cells": [
  {
   "cell_type": "code",
   "execution_count": 3,
   "metadata": {},
   "outputs": [],
   "source": [
    "import numpy as np\n",
    "import cv2\n",
    "from matplotlib import pyplot as plt\n",
    "from PIL import Image, ImageFilter\n"
   ]
  },
  {
   "cell_type": "code",
   "execution_count": 4,
   "metadata": {},
   "outputs": [],
   "source": [
    "img = cv2.imread('lober.jpg')\n",
    "height, width, channel = img.shape\n",
    "\n",
    "out1 = np.zeros((height + 2, width + 2, channel), dtype=np.float) \n",
    "out1[1: 1 + height, 1: 1 + width] = img.copy().astype(np.float)\n",
    "temp1 = out1.copy()\n",
    "\n",
    "out2 = np.zeros((height + 4, width + 4, channel), dtype=np.float)\n",
    "out2[2: 2 + height, 2: 2 + width] = img.copy().astype(np.float) \n",
    "temp2 = out2.copy()"
   ]
  },
  {
   "cell_type": "code",
   "execution_count": 5,
   "metadata": {},
   "outputs": [],
   "source": [
    "for i in range(height):\n",
    "    for j in range(width): \n",
    "        for k in range(channel): \n",
    "            out1[1 + i, 1 + j, k] = np.median(temp1[i:i + 15, j:j + 15, k])\n",
    "            hybrid_temp1 = np.median((temp2[i, j, k], temp2[i + 1, j + 1, k], temp2[i + 2, j + 2, k], temp2[i + 3, j + 3, k], temp2[i + 4, j + 4, k])) \n",
    "            hybrid_temp2 = np.median((temp2[i + 4, j, k], temp2[i + 3, j + 1, k], temp2[i + 2, j + 2, k], temp2[i + 1, j + 3, k], temp2[i, j + 4, k])) \n",
    "            hybrid_temp3 = np.median((temp2[i: i + 5, j:j + 5, k])) \n",
    "            out2[2 + i, 2 + j, k] = np.median((hybrid_temp1, hybrid_temp2, hybrid_temp3))\n"
   ]
  },
  {
   "cell_type": "code",
   "execution_count": 6,
   "metadata": {},
   "outputs": [],
   "source": [
    "out1 = out1[1:1 + height, 1:1 + width].astype(np.uint8) \n",
    "out2 = out2[2:2 + height, 2:2 + width].astype(np.uint8)\n",
    "\n",
    "cv2.imshow('result', out1)\n",
    "cv2.imshow('result2', out2)\n",
    "cv2.waitKey(0)\n",
    "cv2.destroyAllWindows()"
   ]
  },
  {
   "cell_type": "code",
   "execution_count": null,
   "metadata": {},
   "outputs": [],
   "source": []
  },
  {
   "cell_type": "code",
   "execution_count": null,
   "metadata": {},
   "outputs": [],
   "source": []
  }
 ],
 "metadata": {
  "kernelspec": {
   "display_name": "Python 3",
   "language": "python",
   "name": "python3"
  }
 },
 "nbformat": 4,
 "nbformat_minor": 4
}
