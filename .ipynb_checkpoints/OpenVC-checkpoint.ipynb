{
 "cells": [
  {
   "cell_type": "code",
   "execution_count": 46,
   "metadata": {},
   "outputs": [],
   "source": [
    "import cv2\n",
    "import numpy as np\n",
    "from math import acos, pi, sqrt"
   ]
  },
  {
   "cell_type": "code",
   "execution_count": 47,
   "metadata": {},
   "outputs": [],
   "source": [
    "# src = cv2.imread(\"sample.jpg\",cv2.IMREAD_COLOR)\n",
    "# # BGR to HSV\n",
    "# hsv = cv2.cvtColor(src, cv2.COLOR_BGR2HSV)\n",
    "# h, s, v = cv2.split(hsv)\n",
    "\n",
    "# lower_orange = (0, 35, 150)\n",
    "# upper_orange = (20, 75, 255)\n",
    "# img_mask = cv2.inRange(hsv, lower_orange, upper_orange)\n",
    "# img_result = cv2.bitwise_and(src, src, mask=img_mask)\n",
    "\n",
    "# cv2.imshow(\"sorce\", src)\n",
    "# cv2.imshow(\"dst\",img_result)\n",
    "\n",
    "# # width, height, channel = src.shape[0], src.shape[1], src.shape[2]\n",
    "# # dst = np.zeros((width, height, channel))\n",
    "\n",
    "# # for i in range(width):\n",
    "# #     for j in range(height):\n",
    "# #         if h[i][j] > 120 and h[i][j]< 130:\n",
    "# #             dst[i][j] = src[i][j]\n",
    "\n",
    "# # cv2.imshow(\"sorce\", src)\n",
    "# # cv2.imshow(\"h\", h)\n",
    "# # cv2.imshow(\"s\", s)\n",
    "# # cv2.imshow(\"v\", v)\n",
    "# # cv2.imshow(\"dst\", dst)\n",
    "# cv2.waitKey(0)\n",
    "# cv2.destroyAllWindows()"
   ]
  },
  {
   "cell_type": "markdown",
   "metadata": {},
   "source": [
    "WITHOUT LIB"
   ]
  },
  {
   "cell_type": "code",
   "execution_count": 48,
   "metadata": {},
   "outputs": [],
   "source": [
    "# B, G, R\n",
    "def compute_Hue(B, G, R):\n",
    "    angle = 0\n",
    "    if B != G != R:\n",
    "        angle = 0.5*((R-G)+(R-B))/sqrt((R-G)*(R-G)+(R-B)*(G-B))\n",
    "    return acos(angle) if B <= G else (2*pi - acos(angle))"
   ]
  },
  {
   "cell_type": "code",
   "execution_count": 49,
   "metadata": {
    "scrolled": true
   },
   "outputs": [],
   "source": [
    "src = cv2.imread('Fig0316(1)(top_left).jpg', cv2.IMREAD_COLOR)\n",
    "height, width = src.shape[0], src.shape[1]\n",
    "\n",
    "I = np.zeros((height,width))\n",
    "S = np.zeros((height,width))\n",
    "H = np.zeros((height,width))\n",
    "\n",
    "for i in range(height):\n",
    "    for j in range(width):\n",
    "        B, G, R = src[i][j][0]/255., src[i][j][1]/255., src[i][j][2]/255.\n",
    "        I[i][j] = (B+G+R)/3.\n",
    "        if B+G+R != 0:\n",
    "            S[i][j] = 1 - 3*np.min([B,G,R])/(B+G+R)\n",
    "        H[i][j] = compute_Hue(B,G,R)\n",
    "                \n",
    "histogram = np.zeros(256)\n",
    "lookUpTable = np.zeros(256)\n",
    "\n",
    "cv2.imshow(\"I\", I)\n",
    "I = I*255\n",
    "I = np.asarray(I, dtype=np.uint8)\n",
    "\n",
    "for i in range(height):\n",
    "    for j in range(width):\n",
    "        histogram[I[i][j]] += 1\n",
    "sum = 0\n",
    "scale_factor = 255.0\n",
    "\n",
    "for i in range(255):\n",
    "    sum += histogram[i]\n",
    "    lookUpTable[i] = ( sum * scale_factor ) + 0.5\n",
    "\n",
    "for i in range(height):\n",
    "    for j in range(width):\n",
    "        I[i][j] = lookUpTable[I[i][j]]\n",
    "\n",
    "\n",
    "# cv2.imshow(\"I\", I)\n",
    "cv2.imshow(\"src\",src)\n",
    "cv2.waitKey(0)\n",
    "cv2.destroyAllWindows()"
   ]
  },
  {
   "cell_type": "code",
   "execution_count": 13,
   "metadata": {},
   "outputs": [],
   "source": [
    "# I = I*255\n",
    "# S = S*255\n",
    "# H = H*255/(2*pi)\n",
    "# I = np.asarray(I, dtype=np.uint8)\n",
    "# S = np.asarray(S, dtype=np.uint8)\n",
    "# H = np.asarray(H, dtype=np.uint8)\n",
    "\n",
    "# cv2.imshow(\"src\", src)\n",
    "# cv2.imshow(\"H\", H)\n",
    "# cv2.imshow(\"S\", S)\n",
    "# cv2.imshow(\"I\", I)\n",
    "# cv2.waitKey(0)\n",
    "# cv2.destroyAllWindows()"
   ]
  },
  {
   "cell_type": "code",
   "execution_count": null,
   "metadata": {},
   "outputs": [],
   "source": []
  },
  {
   "cell_type": "code",
   "execution_count": null,
   "metadata": {},
   "outputs": [],
   "source": []
  }
 ],
 "metadata": {
  "kernelspec": {
   "display_name": "Python 3",
   "language": "python",
   "name": "python3"
  },
  "language_info": {
   "codemirror_mode": {
    "name": "ipython",
    "version": 3
   },
   "file_extension": ".py",
   "mimetype": "text/x-python",
   "name": "python",
   "nbconvert_exporter": "python",
   "pygments_lexer": "ipython3",
   "version": "3.8.5"
  }
 },
 "nbformat": 4,
 "nbformat_minor": 4
}
