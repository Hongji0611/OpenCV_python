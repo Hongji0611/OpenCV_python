{
 "cells": [
  {
   "cell_type": "code",
   "execution_count": 11,
   "metadata": {},
   "outputs": [],
   "source": [
    "import cv2\n",
    "import numpy as np\n",
    "from PIL import Image"
   ]
  },
  {
   "cell_type": "code",
   "execution_count": 12,
   "metadata": {},
   "outputs": [],
   "source": [
    "def log_3x3():\n",
    "    kernel = np.array([[1, 1, 1], [1, -8, 1], [1, 1, 1]])\n",
    "    return kernel"
   ]
  },
  {
   "cell_type": "code",
   "execution_count": 13,
   "metadata": {},
   "outputs": [],
   "source": [
    "def log_5x5():\n",
    "    kernel = np.array([[0,0,1,0,0], [0,1,2,1,0], [1,2,-16,2,1], [0,1,2,1,0],[0,0,1,0,0]])\n",
    "    return kernel"
   ]
  },
  {
   "cell_type": "code",
   "execution_count": 14,
   "metadata": {},
   "outputs": [],
   "source": [
    "def LoG_filter(img, K_size, kernel):\n",
    "    if len(img.shape) == 3: \n",
    "        H, W, C = img.shape\n",
    "    else: \n",
    "        img = np.expand_dims(img, axis=-1)\n",
    "        H, W, C = img.shape\n",
    "\n",
    "    pad = K_size // 2\n",
    "    out = np.zeros((H + pad * 2, W + pad * 2, C), dtype=np.float)\n",
    "    out[pad: pad + H, pad: pad + W] = img.copy().astype(np.float)\n",
    "\n",
    "    print(kernel)\n",
    "\n",
    "    tmp = out.copy()\n",
    "    \n",
    "    for y in range(H): \n",
    "        for x in range(W): \n",
    "            for c in range(C): \n",
    "                out[pad + y, pad + x, c] = np.sum(kernel * tmp[y: y + K_size, x: x + K_size, c]) \n",
    "    out = np.clip(out, 0, 255) \n",
    "    out = out[pad: pad + H, pad: pad + W].astype(np.uint8) \n",
    "    \n",
    "    return out"
   ]
  },
  {
   "cell_type": "code",
   "execution_count": 15,
   "metadata": {},
   "outputs": [
    {
     "name": "stdout",
     "output_type": "stream",
     "text": [
      "[[ 1  1  1]\n",
      " [ 1 -8  1]\n",
      " [ 1  1  1]]\n",
      "[[  0   0   1   0   0]\n",
      " [  0   1   2   1   0]\n",
      " [  1   2 -16   2   1]\n",
      " [  0   1   2   1   0]\n",
      " [  0   0   1   0   0]]\n"
     ]
    }
   ],
   "source": [
    "img = cv2.imread('Fig0507(a)(ckt-board-orig).jpg') \n",
    "\n",
    "out1 = LoG_filter(img, 3, log_3x3())\n",
    "out2 = LoG_filter(img, 5, log_5x5())\n",
    "\n",
    "cv2.imshow(\"log_3x3\", out1) \n",
    "cv2.imshow(\"log_5x5\", out2) \n",
    "cv2.waitKey(0) \n",
    "cv2.destroyAllWindows()"
   ]
  },
  {
   "cell_type": "code",
   "execution_count": null,
   "metadata": {},
   "outputs": [],
   "source": []
  }
 ],
 "metadata": {
  "kernelspec": {
   "display_name": "Python 3",
   "language": "python",
   "name": "python3"
  },
  "language_info": {
   "codemirror_mode": {
    "name": "ipython",
    "version": 3
   },
   "file_extension": ".py",
   "mimetype": "text/x-python",
   "name": "python",
   "nbconvert_exporter": "python",
   "pygments_lexer": "ipython3",
   "version": "3.8.5"
  }
 },
 "nbformat": 4,
 "nbformat_minor": 4
}
