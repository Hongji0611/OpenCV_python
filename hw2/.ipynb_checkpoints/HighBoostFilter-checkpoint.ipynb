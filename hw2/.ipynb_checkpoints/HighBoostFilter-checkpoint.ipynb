{
 "cells": [
  {
   "cell_type": "code",
   "execution_count": 11,
   "metadata": {},
   "outputs": [],
   "source": [
    "import cv2\n",
    "import numpy as np"
   ]
  },
  {
   "cell_type": "code",
   "execution_count": null,
   "metadata": {},
   "outputs": [],
   "source": [
    "def convolution(img, size, mask):\n",
    "    \n",
    "    if len(img.shape) == 3: # 컬러 이미지\n",
    "        H, W, C = img.shape\n",
    "    else:  # 흑백 이미지\n",
    "        img = np.expand_dims(img, axis=-1)\n",
    "        H, W, C = img.shape\n",
    "\n",
    "    pad = size // 2\n",
    "    out = np.zeros((H + pad * 2, W + pad * 2, C), dtype=np.float)\n",
    "    out[pad: pad + H, pad: pad + W] = img.copy().astype(np.float)\n",
    "\n",
    "    print(mask)\n",
    "\n",
    "    tmp = out.copy()\n",
    "    \n",
    "    for i in range(H): \n",
    "        for j in range(W): \n",
    "            for k in range(C): \n",
    "                out[pad + i, pad + j, k] = np.sum(mask * tmp[i: i + size, j: j + size, k])\n",
    "                \n",
    "    # 0~255사이의 값으로 변환\n",
    "    out = np.clip(out, 0, 255) \n",
    "    out = out[pad: pad + H, pad: pad + W].astype(np.uint8) \n",
    "    \n",
    "    return out"
   ]
  },
  {
   "cell_type": "code",
   "execution_count": null,
   "metadata": {},
   "outputs": [],
   "source": [
    "img = cv2.imread('Fig0525(a)(aerial_view_no_turb).jpg')\n",
    "\n",
    "A = 1.2\n",
    "\n",
    "mask1 = np.array([[0,-1,0],\n",
    "                  [-1,A+4,-1],\n",
    "                  [0,-1,0]])\n",
    "mask2 = np.array([[-1,-1,-1],\n",
    "                  [-1,A+8,-1],\n",
    "                  [-1,-1,-1]])\n",
    "\n",
    "result = convolution(img, 3, mask1)\n",
    "result2 = convolution(img, 3, mask2)\n",
    "\n",
    "A = 1.5\n",
    "\n",
    "mask3 = np.array([[0,-1,0],\n",
    "                  [-1,A+4,-1],\n",
    "                  [0,-1,0]])\n",
    "mask4 = np.array([[-1,-1,-1],\n",
    "                  [-1,A+8,-1],\n",
    "                  [-1,-1,-1]])\n",
    "\n",
    "result3 = convolution(img, 3, mask3)\n",
    "result4 = convolution(img, 3, mask4)\n",
    "\n",
    "cv2.imshow('mask1_1.2', result)\n",
    "cv2.imshow('mask2_1.2', result2)\n",
    "cv2.imshow('mask1_1.5', result3)\n",
    "cv2.imshow('mask2_1.5', result4)\n",
    "cv2.waitKey(0)\n",
    "cv2.destroyAllWindows()"
   ]
  }
 ],
 "metadata": {
  "kernelspec": {
   "display_name": "Python 3",
   "language": "python",
   "name": "python3"
  },
  "language_info": {
   "codemirror_mode": {
    "name": "ipython",
    "version": 3
   },
   "file_extension": ".py",
   "mimetype": "text/x-python",
   "name": "python",
   "nbconvert_exporter": "python",
   "pygments_lexer": "ipython3",
   "version": "3.8.5"
  }
 },
 "nbformat": 4,
 "nbformat_minor": 4
}
