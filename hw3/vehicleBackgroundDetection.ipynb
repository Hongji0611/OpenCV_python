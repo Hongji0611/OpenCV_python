{
 "cells": [
  {
   "cell_type": "code",
   "execution_count": 15,
   "metadata": {},
   "outputs": [],
   "source": [
    "import cv2\n",
    "import numpy as np\n",
    "import ipywidgets as widgets \n",
    "import IPython.display as display\n",
    "from ipywidgets import Box"
   ]
  },
  {
   "cell_type": "code",
   "execution_count": 16,
   "metadata": {
    "scrolled": false
   },
   "outputs": [
    {
     "data": {
      "application/vnd.jupyter.widget-view+json": {
       "model_id": "fd64549dcba34d659bd561d18c73db26",
       "version_major": 2,
       "version_minor": 0
      },
      "text/plain": [
       "Box(children=(Image(value=b'', layout=\"Layout(border='solid')\", width='50%'), Image(value=b'', layout=\"Layout(…"
      ]
     },
     "metadata": {},
     "output_type": "display_data"
    },
    {
     "name": "stdout",
     "output_type": "stream",
     "text": [
      "123\n"
     ]
    },
    {
     "data": {
      "text/plain": [
       "True"
      ]
     },
     "execution_count": 16,
     "metadata": {},
     "output_type": "execute_result"
    }
   ],
   "source": [
    "cap = cv2.VideoCapture('./example/Car video2.mp4')\n",
    "\n",
    "width = int(cap.get(3)) # 가로 길이\n",
    "height = int(cap.get(4)) # 세로 길이\n",
    "\n",
    "back_img = np.zeros(shape=(height,width,3),dtype=np.float32)\n",
    "\n",
    "widget1 = widgets.Image(layout = widgets.Layout(border=\"solid\"), width=\"50%\") \n",
    "widget2 = widgets.Image(layout = widgets.Layout(border=\"solid\"), width=\"50%\") \n",
    "items = [widget1, widget2]\n",
    "box = Box(children=items)\n",
    "display.display(box)\n",
    "\n",
    "count = 0\n",
    "\n",
    "while (cap.isOpened()) :\n",
    "    try:\n",
    "        ret, frame = cap.read()\n",
    "        if not ret:\n",
    "            break\n",
    "        count += 1\n",
    "        cv2.accumulate(frame,back_img)\n",
    "        average_back = back_img/count\n",
    "        result_img = cv2.convertScaleAbs(average_back)\n",
    "\n",
    "        widget1.value = cv2.imencode(\".jpeg\", frame)[1].tobytes()\n",
    "        widget2.value = cv2.imencode(\".jpeg\", result_img)[1].tobytes()\n",
    "    \n",
    "    except KeyboardInterrupt: break\n",
    "        \n",
    "if cap.isOpened():\n",
    "    cap.release()\n",
    "\n",
    "print(count)\n",
    "cv2.imwrite('./background/back_img.png',result_img)"
   ]
  },
  {
   "cell_type": "code",
   "execution_count": null,
   "metadata": {},
   "outputs": [],
   "source": []
  }
 ],
 "metadata": {
  "kernelspec": {
   "display_name": "Python 3",
   "language": "python",
   "name": "python3"
  },
  "language_info": {
   "codemirror_mode": {
    "name": "ipython",
    "version": 3
   },
   "file_extension": ".py",
   "mimetype": "text/x-python",
   "name": "python",
   "nbconvert_exporter": "python",
   "pygments_lexer": "ipython3",
   "version": "3.8.5"
  }
 },
 "nbformat": 4,
 "nbformat_minor": 4
}
