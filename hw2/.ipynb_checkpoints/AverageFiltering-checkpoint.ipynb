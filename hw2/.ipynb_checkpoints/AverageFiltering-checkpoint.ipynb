{
 "cells": [
  {
   "cell_type": "code",
   "execution_count": 1,
   "metadata": {},
   "outputs": [],
   "source": [
    "import cv2\n",
    "import numpy as np\n",
    "from PIL import Image"
   ]
  },
  {
   "cell_type": "code",
   "execution_count": 2,
   "metadata": {},
   "outputs": [],
   "source": [
    "def average_filter(img, size):\n",
    "    \n",
    "    if len(img.shape) == 3: # 컬러 이미지\n",
    "        H, W, C = img.shape\n",
    "    else:  # 흑백 이미지\n",
    "        img = np.expand_dims(img, axis=-1)\n",
    "        H, W, C = img.shape\n",
    "\n",
    "    pad = size // 2\n",
    "    out = np.zeros((H + pad * 2, W + pad * 2, C), dtype=np.float)\n",
    "    out[pad: pad + H, pad: pad + W] = img.copy().astype(np.float)\n",
    "\n",
    "    # mask 생성\n",
    "    mask = np.ones((size, size))/size**2\n",
    "    print(mask)\n",
    "\n",
    "    tmp = out.copy()\n",
    "    \n",
    "    for i in range(H): \n",
    "        for j in range(W): \n",
    "            for k in range(C): \n",
    "                out[pad + i, pad + j, k] = np.sum(mask * tmp[i: i + size, j: j + size, k])\n",
    "                \n",
    "    # 0~255사이의 값으로 변환\n",
    "    out = np.clip(out, 0, 255) \n",
    "    out = out[pad: pad + H, pad: pad + W].astype(np.uint8) \n",
    "    \n",
    "    return out\n"
   ]
  },
  {
   "cell_type": "code",
   "execution_count": 3,
   "metadata": {},
   "outputs": [
    {
     "name": "stdout",
     "output_type": "stream",
     "text": [
      "[[0.0004 0.0004 0.0004 ... 0.0004 0.0004 0.0004]\n",
      " [0.0004 0.0004 0.0004 ... 0.0004 0.0004 0.0004]\n",
      " [0.0004 0.0004 0.0004 ... 0.0004 0.0004 0.0004]\n",
      " ...\n",
      " [0.0004 0.0004 0.0004 ... 0.0004 0.0004 0.0004]\n",
      " [0.0004 0.0004 0.0004 ... 0.0004 0.0004 0.0004]\n",
      " [0.0004 0.0004 0.0004 ... 0.0004 0.0004 0.0004]]\n"
     ]
    }
   ],
   "source": [
    "img = cv2.imread('Salt&pepper noise.png') \n",
    "out = average_filter(img, 50)\n",
    "\n",
    "cv2.imshow(\"result\", out) \n",
    "cv2.waitKey(0) \n",
    "cv2.destroyAllWindows()"
   ]
  },
  {
   "cell_type": "code",
   "execution_count": null,
   "metadata": {},
   "outputs": [],
   "source": []
  }
 ],
 "metadata": {
  "kernelspec": {
   "display_name": "Python 3",
   "language": "python",
   "name": "python3"
  },
  "language_info": {
   "codemirror_mode": {
    "name": "ipython",
    "version": 3
   },
   "file_extension": ".py",
   "mimetype": "text/x-python",
   "name": "python",
   "nbconvert_exporter": "python",
   "pygments_lexer": "ipython3",
   "version": "3.8.5"
  }
 },
 "nbformat": 4,
 "nbformat_minor": 4
}
