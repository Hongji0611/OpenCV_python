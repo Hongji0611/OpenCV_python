{
 "cells": [
  {
   "cell_type": "code",
   "execution_count": 1,
   "metadata": {},
   "outputs": [],
   "source": [
    "import cv2\n",
    "import numpy as np\n",
    "from matplotlib import pyplot as plt"
   ]
  },
  {
   "cell_type": "code",
   "execution_count": 2,
   "metadata": {},
   "outputs": [
    {
     "name": "stdout",
     "output_type": "stream",
     "text": [
      "Saved frame number : 4\n",
      "Saved frame number : 6\n",
      "Saved frame number : 8\n",
      "Saved frame number : 10\n",
      "Saved frame number : 12\n",
      "Saved frame number : 14\n",
      "Saved frame number : 16\n",
      "Saved frame number : 18\n",
      "Saved frame number : 20\n",
      "Saved frame number : 22\n",
      "Saved frame number : 24\n",
      "Saved frame number : 26\n",
      "Saved frame number : 28\n",
      "Fail to read frame!\n"
     ]
    }
   ],
   "source": [
    "cap = cv2.VideoCapture('./example/Project_outdoor video1.mov')\n",
    "\n",
    "width = int(cap.get(3)) # 가로 길이\n",
    "height = int(cap.get(4)) # 세로 길이\n",
    "fps = 2 # 프레임 수\n",
    "\n",
    "count = 0\n",
    "col_images=[]\n",
    "\n",
    "kernel = np.ones((4,4),np.uint8)\n",
    "\n",
    "# 동영상을 output으로 저장할 때\n",
    "fcc = cv2.VideoWriter_fourcc('D', 'I', 'V', 'X')\n",
    "out = cv2.VideoWriter('output.avi', fcc, fps, (width, height))\n",
    "\n",
    "while (cap.isOpened()) :\n",
    "    ret, image = cap.read() \n",
    "    if ret : #frame이 존재한다면\n",
    "        if(int(cap.get(1)) % 2 == 0):\n",
    "            col_images.append(image)\n",
    "            if(count == 0):\n",
    "                count += 1\n",
    "                continue\n",
    "            grayA = cv2.cvtColor(col_images[count-1], cv2.COLOR_BGR2GRAY)\n",
    "            grayB = cv2.cvtColor(col_images[count], cv2.COLOR_BGR2GRAY)\n",
    "            diff_image = cv2.absdiff(grayB, grayA)\n",
    "                \n",
    "            ret, thresh = cv2.threshold(diff_image, 30, 255, cv2.THRESH_BINARY)\n",
    "            dilated = cv2.dilate(thresh,kernel,iterations = 1)\n",
    "    \n",
    "            # find contours\n",
    "            contours, hierarchy = cv2.findContours(dilated.copy(), cv2.RETR_TREE,cv2.CHAIN_APPROX_NONE)\n",
    "            dilated = cv2.dilate(thresh,kernel,iterations = 1)\n",
    "    \n",
    "            # find contours\n",
    "            contours, hierarchy = cv2.findContours(dilated.copy(), cv2.RETR_TREE,cv2.CHAIN_APPROX_NONE)\n",
    "                \n",
    "            valid_cntrs = []\n",
    "            for cntr in contours:\n",
    "                x,y,w,h = cv2.boundingRect(cntr)\n",
    "                if (x <= 200) & (y >= 80) & (cv2.contourArea(cntr) >= 25):\n",
    "                    if (y >= 90) & (cv2.contourArea(cntr) < 40):\n",
    "                        break\n",
    "                    valid_cntrs.append(cntr)\n",
    "            dmy = col_images[count-1].copy()\n",
    "            cv2.drawContours(dmy, valid_cntrs, -1, (127,200,0), 2)\n",
    "                \n",
    "            cv2.imwrite(\"./result/frame%d.png\" % count, dmy) \n",
    "            #print('Saved frame%d.jpg' % count) \n",
    "            count += 1 \n",
    "            out.write(dmy)\n",
    "            cv2.imshow('frame', dmy)\n",
    "            print('Saved frame number : ' + str(int(cap.get(1)))) \n",
    "        if cv2.waitKey(1) & 0xFF == ord('q') : break\n",
    "    else :\n",
    "        print(\"Fail to read frame!\")\n",
    "        break\n",
    "        \n",
    "cap.release()\n",
    "out.release()\n",
    "cv2.destroyAllWindows()"
   ]
  },
  {
   "cell_type": "code",
   "execution_count": null,
   "metadata": {},
   "outputs": [],
   "source": []
  }
 ],
 "metadata": {
  "kernelspec": {
   "display_name": "Python 3",
   "language": "python",
   "name": "python3"
  },
  "language_info": {
   "codemirror_mode": {
    "name": "ipython",
    "version": 3
   },
   "file_extension": ".py",
   "mimetype": "text/x-python",
   "name": "python",
   "nbconvert_exporter": "python",
   "pygments_lexer": "ipython3",
   "version": "3.8.5"
  }
 },
 "nbformat": 4,
 "nbformat_minor": 4
}
