{
 "cells": [
  {
   "cell_type": "code",
   "execution_count": 1,
   "metadata": {},
   "outputs": [],
   "source": [
    "import cv2\n",
    "import numpy as np"
   ]
  },
  {
   "cell_type": "code",
   "execution_count": 2,
   "metadata": {},
   "outputs": [
    {
     "name": "stdout",
     "output_type": "stream",
     "text": [
      "Saved frame number : 5\n",
      "Saved frame number : 10\n",
      "Saved frame number : 15\n",
      "Saved frame number : 20\n",
      "Saved frame number : 25\n",
      "Fail to read frame!\n"
     ]
    }
   ],
   "source": [
    "cap = cv2.VideoCapture('./example/Project_outdoor video1.mov')\n",
    "\n",
    "width = int(cap.get(3)) # 가로 길이\n",
    "height = int(cap.get(4)) # 세로 길이\n",
    "fps = 2 # 프레임 수\n",
    "\n",
    "count = 0\n",
    "\n",
    "# 동영상을 output으로 저장할 때\n",
    "fcc = cv2.VideoWriter_fourcc('D', 'I', 'V', 'X')\n",
    "out = cv2.VideoWriter('output.avi', fcc, fps, (width, height))\n",
    "\n",
    "while (cap.isOpened()) :\n",
    "    ret, image = cap.read() \n",
    "    if ret : #frame이 존재한다면\n",
    "        if(int(cap.get(1)) % 2 == 0): \n",
    "            print('Saved frame number : ' + str(int(cap.get(1)))) \n",
    "            image = cv2.GaussianBlur(image, (5,5),0)\n",
    "            # BGR -> YCrCb 변환\n",
    "            YCrCb = cv2.cvtColor(image, cv2.COLOR_BGR2YCrCb)\n",
    "            # 피부 검출\n",
    "            mask_hand = cv2.inRange(YCrCb,np.array([0,133,77]),np.array([255,173,127]))\n",
    "            # 피부 색 나오도록 연산\n",
    "            mask_color = cv2.bitwise_and(image,image, mask=mask_hand)\n",
    "            # 추출된 이미지가 저장되는 경로 \n",
    "            cv2.imwrite(\"./result/frame%d.png\" % count, mask_color) \n",
    "            #print('Saved frame%d.jpg' % count) \n",
    "            count += 1 \n",
    "            out.write(mask_color)\n",
    "            cv2.imshow('frame', mask_color)\n",
    "\n",
    "        if cv2.waitKey(1) & 0xFF == ord('q') : break\n",
    "    else :\n",
    "        print(\"Fail to read frame!\")\n",
    "        break\n",
    "\n",
    "cap.release()\n",
    "out.release()\n",
    "cv2.destroyAllWindows()"
   ]
  },
  {
   "cell_type": "code",
   "execution_count": null,
   "metadata": {},
   "outputs": [],
   "source": []
  }
 ],
 "metadata": {
  "kernelspec": {
   "display_name": "Python 3",
   "language": "python",
   "name": "python3"
  },
  "language_info": {
   "codemirror_mode": {
    "name": "ipython",
    "version": 3
   },
   "file_extension": ".py",
   "mimetype": "text/x-python",
   "name": "python",
   "nbconvert_exporter": "python",
   "pygments_lexer": "ipython3",
   "version": "3.8.5"
  }
 },
 "nbformat": 4,
 "nbformat_minor": 4
}
